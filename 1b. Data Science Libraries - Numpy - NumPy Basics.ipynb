{
 "cells": [
  {
   "cell_type": "markdown",
   "metadata": {},
   "source": [
    " ### <center>NumPy Basics</center>\n",
    " \n",
    "     This notebook gives an overview of basic concepts of NumPy.\n",
    "     The topics covered in this notebook are as follows:\n",
    "     \n",
    "     1. NumPy Installation\n",
    "     \n",
    "         - Installation Instructions\n",
    "         - Using alias\n",
    "     \n",
    "     2. NumPy Array Creation\n",
    " \n",
    "         - Creating NumPy array from a Python List\n",
    "         - Creating NumPy array from Built-in routines\n",
    "         - Creating NumPy array using np.random\n",
    "     \n",
    "     3. NumPy Array Attributes\n",
    "    \n",
    "         - Dimension\n",
    "         - Size\n",
    "         - Shape\n",
    "         - Memory consumption\n",
    "         - Datatype\n",
    "         - Itemsize\n",
    "    \n",
    "     4. NumPy Array Manipulation\n",
    " \n",
    "         - Array Indexing : Accessing Single elements\n",
    "         - Array Slicing : Accessing Subarrays\n",
    "         - Creating Copies of Arrays\n",
    "         - Reshaping Arrays\n",
    "             > Transposing arrays\n",
    "             > Swapping axes\n",
    "         - Raveling/Flattening\n",
    "         - Concatenating Arrays\n",
    "         - Splitting one array to many\n",
    "         - Repeating Elements\n",
    "             > tile method\n",
    "             > repeat method"
   ]
  },
  {
   "cell_type": "markdown",
   "metadata": {},
   "source": [
    "### <center> NumPy Installation </center> "
   ]
  },
  {
   "cell_type": "markdown",
   "metadata": {},
   "source": [
    "        Before you can start with this tutorial, you need to make sure of the \"version\" of the numpy installed.\n",
    "    \n",
    "> #### Installation Instructions:\n",
    "\n",
    "    1. Mac and Linux users can install NumPy via pip command:\n",
    "    \n",
    "    pip install numpy\n",
    "    \n",
    "    2. Windows does not have any package manager analogous to that in linux or mac.\n",
    "    Please download the pre-built windows installer for NumPy from here (according to your system configuration and \n",
    "    Python version).\n",
    "    And then install the packages manually.   \n",
    "    \n",
    "    3. For more detailed instructions, you could also go to the NumPy website and follow the installation \n",
    "       instructions found there. \n",
    "       These are general instructions for installing packages in the SciPy ecosystem.\n",
    "\n",
    "        https://scipy.org/install.html "
   ]
  },
  {
   "cell_type": "markdown",
   "metadata": {},
   "source": [
    "> #### Using alias : \n",
    "   \n",
    "     By convention, you’ll find that most people in the SciPy/PyData world will import NumPy using np as an alias:\n",
    "     \n",
    "     import numpy as np\n",
    "     \n",
    "     Once you have the Python library already available,you could just double-check the version after importing the \n",
    "     numpy library using this command:\n",
    "    \n",
    "     np.__version__\n",
    "     \n",
    "> #### This tutorial uses numpy version \"1.16\". \n"
   ]
  },
  {
   "cell_type": "code",
   "execution_count": 104,
   "metadata": {},
   "outputs": [],
   "source": [
    "# Importing numpy using np as alias\n",
    "import numpy as np"
   ]
  },
  {
   "cell_type": "code",
   "execution_count": 105,
   "metadata": {},
   "outputs": [
    {
     "data": {
      "text/plain": [
       "'1.16.2'"
      ]
     },
     "execution_count": 105,
     "metadata": {},
     "output_type": "execute_result"
    }
   ],
   "source": [
    "np.__version__"
   ]
  },
  {
   "cell_type": "markdown",
   "metadata": {},
   "source": [
    "### <center> Creating NumPy Arrays </center> \n",
    "\n",
    "        We can use np.array() to create arrays from other python structures like lists or tuples. If we do not \n",
    "    mention the dtype when creating an array, NumPy tries to guess the dtype for the array. However, its a good \n",
    "    practice to explicitly mention dtype when creating an array to avoid unexpected casting of the dtype.\n",
    "    \n",
    "    NumPy supports a diverse set of numerical types than Python. The standard ones include bool, int_, intc, \n",
    "    intp, int8, int16, int 32, int64, uint8, uint16, uint32, uint64, float_, float16, float32, float64, complex_, \n",
    "    complex64, complex128.\n",
    "    \n",
    "    Please Note :\n",
    "    1. NumPy will upcast if the types of elements in the array do not match.\n",
    "    2. For a detailed discussion on the data-types supported by NumPy,refer NumPy Documentation.\n",
    "       https://docs.scipy.org/doc/numpy/user/basics.types.html\n",
    "    "
   ]
  },
  {
   "cell_type": "markdown",
   "metadata": {},
   "source": [
    "> #### Creating NumPy array from a Python List/tuple"
   ]
  },
  {
   "cell_type": "code",
   "execution_count": 106,
   "metadata": {},
   "outputs": [
    {
     "name": "stdout",
     "output_type": "stream",
     "text": [
      "Array created from a nested list of int type  :\n",
      "\n",
      " [[[1 2 3]\n",
      "  [4 5 6]\n",
      "  [7 8 9]]\n",
      "\n",
      " [[1 2 3]\n",
      "  [4 5 6]\n",
      "  [7 8 9]]]\n"
     ]
    }
   ],
   "source": [
    "# Creating a simple array from a nested list of type int\n",
    "arr_number_list = np.array([[[1,2,3],\n",
    "                             [4,5,6],\n",
    "                             (7,8,9)],\n",
    "                            [[1,2,3],\n",
    "                             (4,5,6),\n",
    "                             [7,8,9]]],dtype=\"int32\")\n",
    "\n",
    "print(f\"Array created from a nested list of int type  :\\n\\n {arr_number_list}\")"
   ]
  },
  {
   "cell_type": "code",
   "execution_count": 107,
   "metadata": {},
   "outputs": [
    {
     "name": "stdout",
     "output_type": "stream",
     "text": [
      "Array created from a nested list of Unicode type  :\n",
      "\n",
      " [[['chrome' 'safari' 'firefox']\n",
      "  ['opera' 'edge' 'ie']\n",
      "  ['tor' 'brave' 'chromium']]\n",
      "\n",
      " [['Kodiak' 'Cheetah' 'Puma']\n",
      "  ['Jaguar' 'Panther' 'Tiger']\n",
      "  ['Leopard' 'Snow Leopard' 'Lion']]\n",
      "\n",
      " [['Mountain Lion' 'Mavericks' 'Yosemite']\n",
      "  ['EI Captain' 'Sierra' 'High Sierra']\n",
      "  ['Mojave' 'Catalina' 'Apple']]]\n"
     ]
    }
   ],
   "source": [
    "# Creating an array from a nested list of unicode type\n",
    "arr_unicode_list=np.array([[[\"chrome\",\"safari\",\"firefox\"],\n",
    "                            [\"opera\",\"edge\",\"ie\"],\n",
    "                            [\"tor\",\"brave\",\"chromium\"]],\n",
    "              \n",
    "                           [[\"Kodiak\",\"Cheetah\",\"Puma\"],\n",
    "                            [\"Jaguar\",\"Panther\",\"Tiger\"],\n",
    "                            [\"Leopard\",\"Snow Leopard\",\"Lion\"]],\n",
    "             \n",
    "                           [[\"Mountain Lion\",\"Mavericks\",\"Yosemite\"],\n",
    "                            [\"EI Captain\",\"Sierra\",\"High Sierra\"],\n",
    "                            [\"Mojave\",\"Catalina\",\"Apple\"]]])\n",
    "\n",
    "print(f\"Array created from a nested list of Unicode type  :\\n\\n {arr_unicode_list}\")"
   ]
  },
  {
   "cell_type": "markdown",
   "metadata": {},
   "source": [
    "> #### Creating NumPy array from Built-in routines\n",
    "\n",
    "        There is another efficient way to create arrays as they grow larger in size. This is achieved by using \n",
    "    intrinsic numpy array creation objects like np.arange(), np.ones(), np.zeros(), np.empty(), np.full(), \n",
    "    np.eye() and np.linspace()\n",
    "        \n",
    " "
   ]
  },
  {
   "cell_type": "code",
   "execution_count": 108,
   "metadata": {},
   "outputs": [
    {
     "name": "stdout",
     "output_type": "stream",
     "text": [
      "\n",
      " Array of Ones : \n",
      "[1. 1. 1. 1. 1. 1. 1. 1. 1. 1. 1. 1. 1. 1. 1. 1. 1. 1. 1. 1. 1. 1. 1. 1.\n",
      " 1. 1. 1. 1. 1. 1. 1. 1. 1. 1. 1.]\n",
      "\n",
      " Array of zeros : \n",
      "[0 0 0 0 0 0 0 0 0 0 0 0 0 0 0 0 0 0 0 0]\n",
      "\n",
      " Array with same element : \n",
      "[[0.99 0.99 0.99 0.99]\n",
      " [0.99 0.99 0.99 0.99]\n",
      " [0.99 0.99 0.99 0.99]\n",
      " [0.99 0.99 0.99 0.99]]\n"
     ]
    }
   ],
   "source": [
    "# Creating larger arrays with built-in routines\n",
    "\n",
    "# Creating floating-point array filled with 1s\n",
    "print(\"\\n Array of Ones : \")\n",
    "print (np.ones(35,dtype=float))\n",
    "\n",
    "# Creating integer array filled with 0s\n",
    "print(\"\\n Array of zeros : \")\n",
    "print(np.zeros(20,dtype=int))\n",
    "\n",
    "# Creating array filled with any element \n",
    "print(\"\\n Array with same element : \")\n",
    "print(np.full((4,4),0.99))"
   ]
  },
  {
   "cell_type": "code",
   "execution_count": 109,
   "metadata": {},
   "outputs": [
    {
     "name": "stdout",
     "output_type": "stream",
     "text": [
      "Using np.arange between 0 and 22 with steps of 3: np.arange(start,end,step) \n",
      "[ 0  3  6  9 12 15 18 21]\n",
      "\n",
      "Using np.linspace to create 4 evenly spaced entries between 0 and 10 : np.linspace(start,end,spacing) \n",
      "[ 0.          3.33333333  6.66666667 10.        ]\n",
      "\n",
      "4x4 Identity matrix : np.eye \n",
      "[[1. 0. 0. 0.]\n",
      " [0. 1. 0. 0.]\n",
      " [0. 0. 1. 0.]\n",
      " [0. 0. 0. 1.]]\n",
      "\n",
      "Unititalized matrix : np.empty \n",
      "[ 0  3  6  9 12 15 18 21]\n"
     ]
    }
   ],
   "source": [
    "# Creating arrays with sequences\n",
    "\n",
    "# Starting at 0, Ending at 22, stepping by 3\n",
    "print(\"Using np.arange between 0 and 22 with steps of 3: np.arange(start,end,step) \")\n",
    "print(np.arange(0,22,3))\n",
    "\n",
    "# Creating an array with 4 evenly spaced values between 0 and 10\n",
    "print(\"\\nUsing np.linspace to create 4 evenly spaced entries between 0 and 10 : np.linspace(start,end,spacing) \")\n",
    "print(np.linspace(0,10,4))\n",
    "\n",
    "# Creating an identity matrix\n",
    "print(\"\\n4x4 Identity matrix : np.eye \")\n",
    "print(np.eye(4))\n",
    "\n",
    "# Creating an empty matrix\n",
    "print(\"\\nUnititalized matrix : np.empty \")\n",
    "print(np.empty((8),dtype=int))"
   ]
  },
  {
   "cell_type": "markdown",
   "metadata": {},
   "source": [
    "> #### Creating NumPy array using np.random and np.diagonal\n",
    "\n",
    "        There are special libraries that can be used to create arrays for specific purposes. The most commonly used \n",
    "    are the array generation functions in np.random module that can generate arrays of random values, and some \n",
    "    utility functions to generate special matrices (e.g. diagonal).\n",
    "\n",
    "    We shall discuss np.random() and np.diagonal() with examples.\n",
    "    "
   ]
  },
  {
   "cell_type": "code",
   "execution_count": 110,
   "metadata": {},
   "outputs": [
    {
     "name": "stdout",
     "output_type": "stream",
     "text": [
      "\n",
      "Random array with float :\n",
      "\n",
      "[[ 0.61367588 -0.44783953 -1.56709178]\n",
      " [ 0.30657043 -0.10522764  0.16227432]\n",
      " [ 1.99169311  0.06694193 -0.22029842]\n",
      " [-0.38237301 -0.02669823  0.97186742]]\n"
     ]
    }
   ],
   "source": [
    "# Creating an array with random values\n",
    "print(f\"\\nRandom array with float :\\n\\n{np.random.randn(4,3)}\")"
   ]
  },
  {
   "cell_type": "code",
   "execution_count": 111,
   "metadata": {},
   "outputs": [
    {
     "name": "stdout",
     "output_type": "stream",
     "text": [
      "Normally distributed random array with a Mean of 10 and a Standard Deviation of 4 :\n",
      "\n",
      " [[ 9.9162497  14.28521242  7.3724429 ]\n",
      " [11.78584991  7.28918487 10.89974951]\n",
      " [ 8.83757607 12.69781965 11.3450938 ]]\n"
     ]
    }
   ],
   "source": [
    "# Creating an array with normally distributed random values\n",
    "print(f\"Normally distributed random array with a Mean of 10 and a Standard Deviation of 4 :\\n\\n {np.random.normal(10,4,(3,3))}\")"
   ]
  },
  {
   "cell_type": "code",
   "execution_count": 112,
   "metadata": {},
   "outputs": [
    {
     "name": "stdout",
     "output_type": "stream",
     "text": [
      "Creating a 3x4 array with random values in the interval 2 to 10 :\n",
      "\n",
      "[[4 5 8 4]\n",
      " [9 3 5 3]\n",
      " [8 2 6 4]]\n"
     ]
    }
   ],
   "source": [
    "# Creatin random array with integers in a given interval\n",
    "print(f\"Creating a 3x4 array with random values in the interval 2 to 10 :\\n\\n{np.random.randint(2,10,(3,4))}\")"
   ]
  },
  {
   "cell_type": "code",
   "execution_count": 113,
   "metadata": {},
   "outputs": [
    {
     "name": "stdout",
     "output_type": "stream",
     "text": [
      "Original array :\n",
      " [[[ 0  1  2  3]\n",
      "  [ 4  5  6  7]\n",
      "  [ 8  9 10 11]]\n",
      "\n",
      " [[12 13 14 15]\n",
      "  [16 17 18 19]\n",
      "  [20 21 22 23]]\n",
      "\n",
      " [[24 25 26 27]\n",
      "  [28 29 30 31]\n",
      "  [32 33 34 35]]\n",
      "\n",
      " [[36 37 38 39]\n",
      "  [40 41 42 43]\n",
      "  [44 45 46 47]]]\n",
      "\n",
      "Diagonal array :\n",
      "\n",
      "[[12 25 38]\n",
      " [16 29 42]\n",
      " [20 33 46]] \n"
     ]
    }
   ],
   "source": [
    "# np.diagonal returns specified diagonals from the array\n",
    "arr_diagonal = np.arange(48).reshape(4,3,4)\n",
    "print(f'Original array :\\n {arr_diagonal}')\n",
    "\n",
    "# Offsets main diagonal by 1; Constructs an array with axis 2 and axis 0 and gets diagonal elements\n",
    "print(f'\\nDiagonal array :\\n\\n{arr_diagonal.diagonal(1,2,0)} ')"
   ]
  },
  {
   "cell_type": "markdown",
   "metadata": {},
   "source": [
    "### <center> NumPy Array Attributes </center> "
   ]
  },
  {
   "cell_type": "markdown",
   "metadata": {},
   "source": [
    "> #### Size of NumPy Arrays\n",
    "\n",
    "    Dimension\n",
    "    Size\n",
    "    Shape\n",
    "    nbytes\n",
    "    dtype\n",
    "    itemsize"
   ]
  },
  {
   "cell_type": "code",
   "execution_count": 114,
   "metadata": {},
   "outputs": [],
   "source": [
    "# We create a 1D, 2D and a 3D array to explore the attributes\n",
    "# One-Dimensional Array\n",
    "one_dim_array = np.random.randint(12, size=7)\n",
    "\n",
    "# Two-Dimensional Array\n",
    "two_dim_array = np.array([[\"Cupcake\",\"Donut\"],\n",
    "                   [\"Eclair\",\"Froyo\"],\n",
    "                   [\"Gingerbread\",\"Honeycomb\"],\n",
    "                   [\"Ice Cream Sandwich\",\"Jelly Bean\"],\n",
    "                   [\"KitKat\",\"Lollipop\"],\n",
    "                   [\"Marshmallow\",\"Nougat\"],\n",
    "                   [\"Oreo\",\"Pie\"]])\n",
    "\n",
    "# Three-Dimensional Array\n",
    "three_dim_array = np.array([[[\"Civic\",\"Accord\",\"Pilot\",\"FR-V\"],\n",
    "                       [\"Odyssey\",\"Jazz\",\"CR-V\",\"NSX\"]],\n",
    "                      [[\"Insight\",\"Ridgeline\",\"Legend\",\"HR-V\"],\n",
    "                       [\"Passport\",\"S660\",\"Clarity\",\"Mobilio\"]],\n",
    "                      [[\"Airwave\",\"Avancier\",\"Beat\",\"Shuttle\"],\n",
    "                       [\"Concerto\",\"Element\",\"Logo\",\"Stream\"]]])"
   ]
  },
  {
   "cell_type": "code",
   "execution_count": 115,
   "metadata": {},
   "outputs": [
    {
     "name": "stdout",
     "output_type": "stream",
     "text": [
      "One-Dimensional Array :\n",
      "\n",
      "[ 4 11  8  8  5  5  2]\n",
      "\n",
      "Two-Dimensional Array :\n",
      "\n",
      "[['Cupcake' 'Donut']\n",
      " ['Eclair' 'Froyo']\n",
      " ['Gingerbread' 'Honeycomb']\n",
      " ['Ice Cream Sandwich' 'Jelly Bean']\n",
      " ['KitKat' 'Lollipop']\n",
      " ['Marshmallow' 'Nougat']\n",
      " ['Oreo' 'Pie']]\n",
      "\n",
      "Three-Dimensional Array : 3 sheets, 2 Rows, 4 Columns \n",
      "\n",
      "[[['Civic' 'Accord' 'Pilot' 'FR-V']\n",
      "  ['Odyssey' 'Jazz' 'CR-V' 'NSX']]\n",
      "\n",
      " [['Insight' 'Ridgeline' 'Legend' 'HR-V']\n",
      "  ['Passport' 'S660' 'Clarity' 'Mobilio']]\n",
      "\n",
      " [['Airwave' 'Avancier' 'Beat' 'Shuttle']\n",
      "  ['Concerto' 'Element' 'Logo' 'Stream']]]\n"
     ]
    }
   ],
   "source": [
    "# Arrays created\n",
    "print(\"One-Dimensional Array :\\n\\n{}\".format(one_dim_array))\n",
    "print(\"\\nTwo-Dimensional Array :\\n\\n{}\".format(two_dim_array))\n",
    "print(\"\\nThree-Dimensional Array : 3 sheets, 2 Rows, 4 Columns \\n\\n{}\".format(three_dim_array))"
   ]
  },
  {
   "cell_type": "markdown",
   "metadata": {},
   "source": [
    "##### Dimension"
   ]
  },
  {
   "cell_type": "code",
   "execution_count": 116,
   "metadata": {},
   "outputs": [
    {
     "name": "stdout",
     "output_type": "stream",
     "text": [
      "Dimension of one-dimensional array: 1\n",
      "Dimension of two-dimensional array: 2\n",
      "Dimension of three-dimensional array: 3\n"
     ]
    }
   ],
   "source": [
    "# The ndim attribute returns the dimension of the array\n",
    "print(\"Dimension of one-dimensional array: {}\".format(one_dim_array.ndim))\n",
    "print(\"Dimension of two-dimensional array: {}\".format(two_dim_array.ndim))\n",
    "print(\"Dimension of three-dimensional array: {}\".format(three_dim_array.ndim))"
   ]
  },
  {
   "cell_type": "markdown",
   "metadata": {},
   "source": [
    "##### Size"
   ]
  },
  {
   "cell_type": "code",
   "execution_count": 117,
   "metadata": {},
   "outputs": [
    {
     "name": "stdout",
     "output_type": "stream",
     "text": [
      "Size of one-dimensional array: 7\n",
      "Size of two-dimensional array: 14\n",
      "Size of three-dimensional array: 24\n"
     ]
    }
   ],
   "source": [
    "# The size attribute returns the number of elements in the array\n",
    "print(\"Size of one-dimensional array: {}\".format(one_dim_array.size))\n",
    "print(\"Size of two-dimensional array: {}\".format(two_dim_array.size))\n",
    "print(\"Size of three-dimensional array: {}\".format(three_dim_array.size))"
   ]
  },
  {
   "cell_type": "markdown",
   "metadata": {},
   "source": [
    "##### Shape"
   ]
  },
  {
   "cell_type": "code",
   "execution_count": 118,
   "metadata": {},
   "outputs": [
    {
     "name": "stdout",
     "output_type": "stream",
     "text": [
      "Shape of one-dimensional array: (7,)\n",
      "Shape of two-dimensional array: (7, 2)\n",
      "Shape of three-dimensional array: (3, 2, 4)\n"
     ]
    }
   ],
   "source": [
    "# The shape attribute returns a tuple of array-dimensions\n",
    "print(\"Shape of one-dimensional array: {}\".format(one_dim_array.shape))\n",
    "print(\"Shape of two-dimensional array: {}\".format(two_dim_array.shape))\n",
    "print(\"Shape of three-dimensional array: {}\".format(three_dim_array.shape))"
   ]
  },
  {
   "cell_type": "markdown",
   "metadata": {},
   "source": [
    "##### nbytes"
   ]
  },
  {
   "cell_type": "code",
   "execution_count": 119,
   "metadata": {},
   "outputs": [
    {
     "name": "stdout",
     "output_type": "stream",
     "text": [
      "Number of bytes of one-dimensional array: 56\n",
      "Number of bytes of two-dimensional array: 1008\n",
      "Number of bytes of three-dimensional array: 864\n"
     ]
    }
   ],
   "source": [
    "# The nbytes attribute returns the total bytes consumed by the elements of the array\n",
    "print(\"Number of bytes of one-dimensional array: {}\".format(one_dim_array.nbytes))\n",
    "print(\"Number of bytes of two-dimensional array: {}\".format(two_dim_array.nbytes))\n",
    "print(\"Number of bytes of three-dimensional array: {}\".format(three_dim_array.nbytes))"
   ]
  },
  {
   "cell_type": "markdown",
   "metadata": {},
   "source": [
    "##### dtype"
   ]
  },
  {
   "cell_type": "code",
   "execution_count": 120,
   "metadata": {},
   "outputs": [
    {
     "name": "stdout",
     "output_type": "stream",
     "text": [
      "Dtype of one-dimensional array: int64\n",
      "Dtype of two-dimensional array: <U18\n",
      "Dtype of three-dimensional array: <U9\n"
     ]
    }
   ],
   "source": [
    "# The dtype attribute returns the data-type of the array elements\n",
    "print(\"Dtype of one-dimensional array: {}\".format(one_dim_array.dtype))\n",
    "print(\"Dtype of two-dimensional array: {}\".format(two_dim_array.dtype))\n",
    "print(\"Dtype of three-dimensional array: {}\".format(three_dim_array.dtype))"
   ]
  },
  {
   "cell_type": "markdown",
   "metadata": {},
   "source": [
    "##### itemsize"
   ]
  },
  {
   "cell_type": "code",
   "execution_count": 121,
   "metadata": {},
   "outputs": [
    {
     "name": "stdout",
     "output_type": "stream",
     "text": [
      "\n",
      " Itemsize of one-dimensional array:8\n",
      "\n",
      " Itemsize of two-dimensional array: 72\n",
      "\n",
      " Itemsize of three-dimensional array:36\n"
     ]
    }
   ],
   "source": [
    "# The itemsize attribute returns the length of one array element in bytes.\n",
    "print(\"\\n Itemsize of one-dimensional array:{}\".format(one_dim_array.itemsize))\n",
    "print(\"\\n Itemsize of two-dimensional array: {}\".format(two_dim_array.itemsize))\n",
    "print(\"\\n Itemsize of three-dimensional array:{}\".format(three_dim_array.itemsize))"
   ]
  },
  {
   "cell_type": "markdown",
   "metadata": {},
   "source": [
    "### <center> NumPy Array Manipulation</center> "
   ]
  },
  {
   "cell_type": "markdown",
   "metadata": {},
   "source": [
    "> #### Array Indexing\n",
    "\n",
    "    We shall now discuss simple array indexing (i.e. to get single values from arrays and to set single values in \n",
    "    arrays)"
   ]
  },
  {
   "cell_type": "code",
   "execution_count": 123,
   "metadata": {},
   "outputs": [
    {
     "name": "stdout",
     "output_type": "stream",
     "text": [
      "\n",
      " [ 4 11  8  8  5  5  2]\n",
      "\n",
      "Second element in the array is 8\n",
      "\n",
      "Using negative indices : Second element in the array is 8\n",
      "\n",
      "Fifth element in the array is set to 49\n"
     ]
    }
   ],
   "source": [
    "# Array Indexing on a One-dimensional array\n",
    "print(f\"\\n {one_dim_array}\")\n",
    "\n",
    "# Accessing the 3rd element in the array\n",
    "print(\"\\nSecond element in the array is {}\".format(one_dim_array[2]))\n",
    "# Alternate way\n",
    "print(\"\\nUsing negative indices : Second element in the array is {}\".format(one_dim_array[-5]))\n",
    "\n",
    "# Setting 5th element of array : If a FLOAT VALUE is set, it will be truncated since this is a integer array\n",
    "one_dim_array[4]= 49.96\n",
    "print(\"\\nFifth element in the array is set to {}\".format(one_dim_array[4]))"
   ]
  },
  {
   "cell_type": "code",
   "execution_count": 124,
   "metadata": {},
   "outputs": [
    {
     "name": "stdout",
     "output_type": "stream",
     "text": [
      "\n",
      " [['Cupcake' 'Donut']\n",
      " ['Eclair' 'Froyo']\n",
      " ['Gingerbread' 'Honeycomb']\n",
      " ['Ice Cream Sandwich' 'Jelly Bean']\n",
      " ['KitKat' 'Lollipop']\n",
      " ['Marshmallow' 'Nougat']\n",
      " ['Oreo' 'Pie']]\n",
      "\n",
      "Second element in the second row of this array is Froyo\n",
      "\n",
      "Using Negative Indicies : Second element in the second row of this array is Froyo\n",
      "\n",
      "First element in the third row of this array is GingerBread Androi\n"
     ]
    }
   ],
   "source": [
    "# Array Indexing on a Two-dimensional array\n",
    "print(f\"\\n {two_dim_array}\")\n",
    "\n",
    "# Accessing the 2nd element in the second row\n",
    "print(\"\\nSecond element in the second row of this array is {}\".format(two_dim_array[1,1]))\n",
    "# Alternate way\n",
    "print(\"\\nUsing Negative Indicies : Second element in the second row of this array is {}\".format(two_dim_array[-6,-1]))\n",
    "\n",
    "\n",
    "# Setting 1st element of 3rd row of the array ; \n",
    "# Since the array is created with limit of characters as 18; The string is truncated above 18\n",
    "two_dim_array[2,0]=\"GingerBread Android\"\n",
    "print(\"\\nFirst element in the third row of this array is {}\".format(two_dim_array[2,0]))\n"
   ]
  },
  {
   "cell_type": "code",
   "execution_count": 134,
   "metadata": {},
   "outputs": [
    {
     "name": "stdout",
     "output_type": "stream",
     "text": [
      "\n",
      " [[['Civic' 'Accord' 'Pilot' 'FR-V']\n",
      "  ['Odyssey' 'Jazz' 'CR-V' 'NSX']]\n",
      "\n",
      " [['Insight' 'Ridgeline' 'Legend' 'HR-V']\n",
      "  ['Passport' 'S660' 'Clarity' 'Mobilio']]\n",
      "\n",
      " [['Airwave' 'Avancier' 'Beat' 'Shuttle']\n",
      "  ['Concerto' 'Element' 'Logo' 'Stream']]]\n",
      "\n",
      "Second element in the second row of this array is NSX\n",
      "\n",
      "Using Negative Indicies : Second element in the second row of this array is NSX\n",
      "\n",
      "First element in the last sheet of this array is Fit\n"
     ]
    }
   ],
   "source": [
    "# Array Indexing on a Three-dimensional array\n",
    "print(f\"\\n {three_dim_array}\")\n",
    "\n",
    "# Accessing the element in the 1st sheet, 2nd row and 4th column : NSX \n",
    "print(\"\\nSecond element in the second row of this array is {}\".format(three_dim_array[0,1,3]))\n",
    "# Alternate way\n",
    "print(\"\\nUsing Negative Indicies : Second element in the second row of this array is {}\".format(three_dim_array[-3,-1,-1]))\n",
    "\n",
    "\n",
    "# Setting 1st element of 3rd sheet of the array ; \n",
    "three_dim_array[2,0,0]=\"Fit\"\n",
    "print(\"\\nFirst element in the last sheet of this array is {}\".format(three_dim_array[2,0,0]))\n"
   ]
  },
  {
   "cell_type": "markdown",
   "metadata": {},
   "source": [
    "> #### Array Slicing\n",
    "    \n",
    "    To access multiple elements as a slice of an array, we use array[start:stop:step]\n",
    "    (Example : If none is specified arr[:15] defaults to start=0, stop =15 and step=1)\n",
    "    \n",
    "    Please Note : \n",
    "    1. One important thing to know about array slices is that they return views rather than copies of the array\n",
    "       data. (i.e. If the value of a slice is set, the original array is modified too)"
   ]
  },
  {
   "cell_type": "code",
   "execution_count": 126,
   "metadata": {},
   "outputs": [
    {
     "name": "stdout",
     "output_type": "stream",
     "text": [
      "\n",
      " [ 4 11  8  8 49  5  2]\n",
      "\n",
      "Sliced array of First 3 elements : [ 4 11  8]\n",
      "\n",
      "Sliced array of Last 4 elements : [ 8 49  5  2]\n",
      "\n",
      "Sliced array of element 3 to 5 : [ 8  8 49]\n",
      "\n",
      "Sliced array of alternate elements : [ 4  8 49  2]\n",
      "\n",
      "Sliced array of alternate elements starting at index 1 : [11  8  5]\n",
      "\n",
      "Reversed array  : [ 2  5 49  8  8 11  4]\n"
     ]
    }
   ],
   "source": [
    "# Array Slicing on a One-dimensional array\n",
    "print(f\"\\n {one_dim_array}\")\n",
    "\n",
    "# Slices first 3 elements\n",
    "print(f'\\nSliced array of First 3 elements : {one_dim_array[:3]}')\n",
    "\n",
    "# Slices last 4 elements\n",
    "print(f'\\nSliced array of Last 4 elements : {one_dim_array[3:]}')\n",
    "\n",
    "# Slices elements between 3 and 5 inclusive\n",
    "print(f'\\nSliced array of element 3 to 5 : {one_dim_array[2:5]}')\n",
    "\n",
    "# Slices alternate elements\n",
    "print(f'\\nSliced array of alternate elements : {one_dim_array[::2]}')\n",
    "\n",
    "# Slices alternate elements starting at index 1\n",
    "print(f'\\nSliced array of alternate elements starting at index 1 : {one_dim_array[1::2]}')\n",
    "\n",
    "# Slices in reverse order\n",
    "print(f'\\nReversed array  : {one_dim_array[::-1]}')\n",
    "\n"
   ]
  },
  {
   "cell_type": "code",
   "execution_count": 127,
   "metadata": {},
   "outputs": [
    {
     "name": "stdout",
     "output_type": "stream",
     "text": [
      "\n",
      " [['Cupcake' 'Donut']\n",
      " ['Eclair' 'Froyo']\n",
      " ['GingerBread Androi' 'Honeycomb']\n",
      " ['Ice Cream Sandwich' 'Jelly Bean']\n",
      " ['KitKat' 'Lollipop']\n",
      " ['Marshmallow' 'Nougat']\n",
      " ['Oreo' 'Pie']]\n",
      "\n",
      "Sliced array of elements from 2nd column from all rows: \n",
      " [['Donut']\n",
      " ['Froyo']\n",
      " ['Honeycomb']\n",
      " ['Jelly Bean']\n",
      " ['Lollipop']\n",
      " ['Nougat']\n",
      " ['Pie']]\n",
      "\n",
      "Sliced array of elements from 3rd row to 5th row of 1st column: \n",
      "[['GingerBread Androi']\n",
      " ['Ice Cream Sandwich']\n",
      " ['KitKat']]\n",
      "\n",
      "Sliced array of elements from alternate rows : \n",
      " [['Cupcake' 'Donut']\n",
      " ['GingerBread Androi' 'Honeycomb']\n",
      " ['KitKat' 'Lollipop']\n",
      " ['Oreo' 'Pie']]\n",
      "\n",
      "Sliced array of alternate elements starting at index 1 :\n",
      " [['Eclair' 'Froyo']\n",
      " ['Ice Cream Sandwich' 'Jelly Bean']\n",
      " ['Marshmallow' 'Nougat']]\n",
      "\n",
      "Reversed array  : \n",
      " [['Pie' 'Oreo']\n",
      " ['Nougat' 'Marshmallow']\n",
      " ['Lollipop' 'KitKat']\n",
      " ['Jelly Bean' 'Ice Cream Sandwich']\n",
      " ['Honeycomb' 'GingerBread Androi']\n",
      " ['Froyo' 'Eclair']\n",
      " ['Donut' 'Cupcake']]\n"
     ]
    }
   ],
   "source": [
    "# Array Slicing on a Two-dimensional array\n",
    "print(f\"\\n {two_dim_array}\")\n",
    "\n",
    "# Slices 2nd column from all rows\n",
    "print(f'\\nSliced array of elements from 2nd column from all rows: \\n {two_dim_array[:,1:]}')\n",
    "\n",
    "# Slices from 3rd row to 5th row of 1st column\n",
    "print(f'\\nSliced array of elements from 3rd row to 5th row of 1st column: \\n{two_dim_array[2:5,:1]}')\n",
    "\n",
    "# Slices alternate rows\n",
    "print(f'\\nSliced array of elements from alternate rows : \\n {two_dim_array[::2,:]}')\n",
    "\n",
    "# Slices alternate rows starting at index 1\n",
    "print(f'\\nSliced array of alternate elements starting at index 1 :\\n {two_dim_array[1::2,:]}')\n",
    "\n",
    "# Slices in reverse order\n",
    "print(f'\\nReversed array  : \\n {two_dim_array[::-1,::-1]}')"
   ]
  },
  {
   "cell_type": "code",
   "execution_count": 128,
   "metadata": {},
   "outputs": [
    {
     "name": "stdout",
     "output_type": "stream",
     "text": [
      "\n",
      " [[['Civic' 'Accord' 'Pilot' 'FR-V']\n",
      "  ['Odyssey' 'Jazz' 'CR-V' 'NSX']]\n",
      "\n",
      " [['Insight' 'Ridgeline' 'Legend' 'HR-V']\n",
      "  ['Passport' 'S660' 'Clarity' 'Mobilio']]\n",
      "\n",
      " [['Airwave' 'Avancier' 'Beat' 'Shuttle']\n",
      "  ['Concerto' 'Element' 'Logo' 'Stream']]]\n",
      "\n",
      "Sliced array of elements from 2nd sheet, 2nd row and all columns: \n",
      " [[['Passport' 'S660' 'Clarity' 'Mobilio']]]\n",
      "\n",
      "Negative indexing : Sliced array of elements from 2nd sheet, 2nd row and all columns: \n",
      " [[['Passport' 'S660' 'Clarity' 'Mobilio']]]\n"
     ]
    }
   ],
   "source": [
    "# Array Slicing on a Three-dimensional array\n",
    "print(f\"\\n {three_dim_array}\")\n",
    "\n",
    "# Slicing 2nd sheet, 2nd row and all columns \n",
    "print(f'\\nSliced array of elements from 2nd sheet, 2nd row and all columns: \\n {three_dim_array[1:2,1:,:]}')\n",
    "\n",
    "# Negative index slicing\n",
    "print(f'\\nNegative indexing : Sliced array of elements from 2nd sheet, 2nd row and all columns: \\n {three_dim_array[-2:-1,-1:,:]}')\n"
   ]
  },
  {
   "cell_type": "markdown",
   "metadata": {},
   "source": [
    "> #### Creating Copies of Arrays\n",
    "\n",
    "    However, it is useful to explicitly create a copy of data before it is modified. This can be done using copy()\n",
    "    "
   ]
  },
  {
   "cell_type": "code",
   "execution_count": 132,
   "metadata": {},
   "outputs": [
    {
     "name": "stdout",
     "output_type": "stream",
     "text": [
      "[['Cupcake' 'Donut']\n",
      " ['Eclair' 'Froyo']\n",
      " ['GingerBread Androi' 'Honeycomb']\n",
      " ['Ice Cream Sandwich' 'Jelly Bean']\n",
      " ['KitKat' 'Lollipop']\n",
      " ['Marshmallow' 'Nougat']\n",
      " ['Oreo' 'Pie Android']]\n"
     ]
    },
    {
     "data": {
      "text/plain": [
       "array([['Jelly Bean'],\n",
       "       ['Lollipop'],\n",
       "       ['Nougat'],\n",
       "       ['Pie Android']], dtype='<U18')"
      ]
     },
     "execution_count": 132,
     "metadata": {},
     "output_type": "execute_result"
    }
   ],
   "source": [
    "# Creating a copy of slice of two-dimensional array\n",
    "two_dim_slice = two_dim_array[3:,1:]\n",
    "two_dim_slice[3,0] = \"Pie Android\"\n",
    "print(two_dim_array)\n",
    "# Note that changing sub array changed the original array; \n",
    "two_dim_slice"
   ]
  },
  {
   "cell_type": "code",
   "execution_count": 133,
   "metadata": {},
   "outputs": [
    {
     "name": "stdout",
     "output_type": "stream",
     "text": [
      "[['Cupcake' 'Donut']\n",
      " ['Eclair' 'Froyo']\n",
      " ['GingerBread Androi' 'Honeycomb']\n",
      " ['Ice Cream Sandwich' 'Jelly Bean']\n",
      " ['KitKat' 'Lollipop']\n",
      " ['Marshmallow' 'Nougat']\n",
      " ['Oreo' 'Pie Android']]\n"
     ]
    },
    {
     "data": {
      "text/plain": [
       "array([['Jelly Bean'],\n",
       "       ['Lollipop'],\n",
       "       ['Nougat'],\n",
       "       ['PIE']], dtype='<U18')"
      ]
     },
     "execution_count": 133,
     "metadata": {},
     "output_type": "execute_result"
    }
   ],
   "source": [
    "# Creating a copy of slice of two-dimensional array\n",
    "two_dim_slice = two_dim_array[3:,1:].copy()\n",
    "two_dim_slice[3,0] = \"PIE\"\n",
    "print(two_dim_array)\n",
    "\n",
    "# Note that there is no change in the original array; If .copy() is not used it will change the original array\n",
    "two_dim_slice"
   ]
  },
  {
   "cell_type": "markdown",
   "metadata": {},
   "source": [
    "> #### Reshaping Arrays\n",
    "\n",
    "      Another useful utility on arrays is reshaping of arrays. Reshaping an array might refer to any operation \n",
    "      that might change the shape of the original array.\n",
    "      \n",
    "      We shall discuss the following reshaping techniques in this section:\n",
    "        \n",
    "        1. Using reshape()\n",
    "        2. Transposing arrays\n",
    "        3. Swapping Axes of arrays\n",
    "        4. Raveling/Flattening\n",
    "      \n",
    "     \n",
    "      Please Note :\n",
    "      \n",
    "      1. One of the passed shape dimensions can be –1, in which case the value used for that dimension will be \n",
    "      inferred from the data. (i.e. if the size is 16 and we passed only 2; the other one has to be 8)\n",
    "      2. One of the most common patterns of reshaping is the conversion of 1D array to a 2D row or a column matrix. \n",
    "      3. Its important to note that, a no-copy view of the initial array will be used by Reshape() whenever \n",
    "      possible, but with noncontiguous memory buffers this is not always the case.    \n",
    "\n"
   ]
  },
  {
   "cell_type": "markdown",
   "metadata": {},
   "source": [
    "> **Using .reshape()**"
   ]
  },
  {
   "cell_type": "code",
   "execution_count": 45,
   "metadata": {},
   "outputs": [
    {
     "data": {
      "text/plain": [
       "array([[ 1,  2,  3,  4,  5,  6,  7],\n",
       "       [ 8,  9, 10, 11, 12, 13, 14]])"
      ]
     },
     "execution_count": 45,
     "metadata": {},
     "output_type": "execute_result"
    }
   ],
   "source": [
    "# Reshape() reshapes the array, provided, the size of initial array matches the reshaped array\n",
    "reshaped_arr = np.arange(1,15).reshape((2,7))\n",
    "reshaped_arr "
   ]
  },
  {
   "cell_type": "code",
   "execution_count": 46,
   "metadata": {},
   "outputs": [
    {
     "data": {
      "text/plain": [
       "array([[ 0,  1],\n",
       "       [ 2,  3],\n",
       "       [ 4,  5],\n",
       "       [ 6,  7],\n",
       "       [ 8,  9],\n",
       "       [10, 11],\n",
       "       [12, 13]])"
      ]
     },
     "execution_count": 46,
     "metadata": {},
     "output_type": "execute_result"
    }
   ],
   "source": [
    "# If one of the passed shape dimensions is -1, the value is inferred from the data passed\n",
    "np.arange(14).reshape(7,-1)"
   ]
  },
  {
   "cell_type": "code",
   "execution_count": 47,
   "metadata": {},
   "outputs": [
    {
     "data": {
      "text/plain": [
       "array([[ 0,  1,  2,  3,  4,  5,  6],\n",
       "       [ 7,  8,  9, 10, 11, 12, 13]])"
      ]
     },
     "execution_count": 47,
     "metadata": {},
     "output_type": "execute_result"
    }
   ],
   "source": [
    "# We can also pass shape of another array to reshape an array\n",
    "np.arange(14).reshape(reshaped_arr.shape)"
   ]
  },
  {
   "cell_type": "code",
   "execution_count": 48,
   "metadata": {},
   "outputs": [
    {
     "data": {
      "text/plain": [
       "array([['alpha'],\n",
       "       ['beta'],\n",
       "       ['gamma']], dtype='<U5')"
      ]
     },
     "execution_count": 48,
     "metadata": {},
     "output_type": "execute_result"
    }
   ],
   "source": [
    "# Reshape() for converting 1D array to 2D \n",
    "arr_reshape = np.array(['alpha','beta','gamma'])\n",
    "\n",
    "# Here, we are converting a 1D array to a 2D row\n",
    "arr_reshape[np.newaxis,:] # is same as\n",
    "arr_reshape.reshape(1,3)\n",
    "\n",
    "# Here, we are converting a 1D array to a column matrix\n",
    "arr_reshape[:,np.newaxis] # is same as\n",
    "arr_reshape.reshape(3,1)"
   ]
  },
  {
   "cell_type": "markdown",
   "metadata": {},
   "source": [
    ">**Reshaping Arrays : Transpose and Axes Swapping**"
   ]
  },
  {
   "cell_type": "code",
   "execution_count": 49,
   "metadata": {},
   "outputs": [
    {
     "data": {
      "text/plain": [
       "array([[ 1,  8],\n",
       "       [ 2,  9],\n",
       "       [ 3, 10],\n",
       "       [ 4, 11],\n",
       "       [ 5, 12],\n",
       "       [ 6, 13],\n",
       "       [ 7, 14]])"
      ]
     },
     "execution_count": 49,
     "metadata": {},
     "output_type": "execute_result"
    }
   ],
   "source": [
    "# Transposing the array\n",
    "reshaped_arr.T"
   ]
  },
  {
   "cell_type": "markdown",
   "metadata": {},
   "source": [
    ">**Axes Swapping**"
   ]
  },
  {
   "cell_type": "code",
   "execution_count": 135,
   "metadata": {},
   "outputs": [
    {
     "data": {
      "text/plain": [
       "array([[['Civic', 'Insight', 'Fit'],\n",
       "        ['Accord', 'Ridgeline', 'Avancier'],\n",
       "        ['Pilot', 'Legend', 'Beat'],\n",
       "        ['FR-V', 'HR-V', 'Shuttle']],\n",
       "\n",
       "       [['Odyssey', 'Passport', 'Concerto'],\n",
       "        ['Jazz', 'S660', 'Element'],\n",
       "        ['CR-V', 'Clarity', 'Logo'],\n",
       "        ['NSX', 'Mobilio', 'Stream']]], dtype='<U9')"
      ]
     },
     "execution_count": 135,
     "metadata": {},
     "output_type": "execute_result"
    }
   ],
   "source": [
    "# For higher dimensional arrays, transpose will accept a tuple of axis numbers to permute the axes\n",
    "three_dim_array.transpose((1,2,0))"
   ]
  },
  {
   "cell_type": "markdown",
   "metadata": {},
   "source": [
    ">#### Raveling / Flattening \n",
    "\n",
    "    This operation is opposite to reshaping and it collapses the structure of array to give a flattened array.\n",
    "    There are mainly 2 methods: ravel() and flatten()\n",
    "    \n",
    "    ravel does not produce a copy of the underlying values if the values in the result were contiguous in the \n",
    "    original array.\n",
    "    \n",
    "    The flatten method behaves like ravel except it always returns a copy of the data:\n",
    "    \n",
    "    Please Note : \n",
    "    1. The reshape() and ravel() accept an optional argument of order that can be 'C'/'F' which stands\n",
    "    for 'Row Major'/'Column Major' respectively.\n",
    "    2. C/'Row Major' : Traverse higher dimensions first (e.g., axis 1 before advancing on axis 0).\n",
    "    3. Fortran/'Column Major' : Traverse higher dimensions last (e.g., axis 0 before advancing on axis 1).\n",
    "\n",
    "\n"
   ]
  },
  {
   "cell_type": "code",
   "execution_count": 137,
   "metadata": {},
   "outputs": [
    {
     "data": {
      "text/plain": [
       "array(['Civic', 'Insight', 'Fit', 'Odyssey', 'Passport', 'Concerto',\n",
       "       'Accord', 'Ridgeline', 'Avancier', 'Jazz', 'S660', 'Element',\n",
       "       'Pilot', 'Legend', 'Beat', 'CR-V', 'Clarity', 'Logo', 'FR-V',\n",
       "       'HR-V', 'Shuttle', 'NSX', 'Mobilio', 'Stream'], dtype='<U9')"
      ]
     },
     "execution_count": 137,
     "metadata": {},
     "output_type": "execute_result"
    }
   ],
   "source": [
    "# Raveling an array with order 'F'\n",
    "three_dim_array.ravel('F')"
   ]
  },
  {
   "cell_type": "code",
   "execution_count": 136,
   "metadata": {},
   "outputs": [
    {
     "data": {
      "text/plain": [
       "array(['Civic', 'Accord', 'Pilot', 'FR-V', 'Odyssey', 'Jazz', 'CR-V',\n",
       "       'NSX', 'Insight', 'Ridgeline', 'Legend', 'HR-V', 'Passport',\n",
       "       'S660', 'Clarity', 'Mobilio', 'Fit', 'Avancier', 'Beat', 'Shuttle',\n",
       "       'Concerto', 'Element', 'Logo', 'Stream'], dtype='<U9')"
      ]
     },
     "execution_count": 136,
     "metadata": {},
     "output_type": "execute_result"
    }
   ],
   "source": [
    "# Flattening an array with default order 'C'\n",
    "three_dim_array.flatten()"
   ]
  },
  {
   "cell_type": "markdown",
   "metadata": {},
   "source": [
    "> **Concatenating Arrays**\n",
    "\n",
    "    Concatenation, or joining of two arrays in NumPy is achieved by np.concatenate(), np.hstack() and np.vstack()\n",
    "\n",
    "    Please Note : \n",
    "    \n",
    "    1. np.concatenate : One important aspect to note is that, all the input arrays must have same number of \n",
    "       dimensions.\n",
    "    2. For concatenating arrays of mixed dimensions, we use np.vstack, np.hstack and np.dstack."
   ]
  },
  {
   "cell_type": "code",
   "execution_count": 54,
   "metadata": {},
   "outputs": [
    {
     "name": "stdout",
     "output_type": "stream",
     "text": [
      "Concatenating one dimensional array : ['delta' 'epsilon' 'zeta']\n",
      "\n",
      "Concatenating two dimensional array : \n",
      "[[' alpha' 'beta' 'gamma']\n",
      " ['delta' 'epsilon' 'zeta']\n",
      " ['eta' 'theta' 'iota']\n",
      " ['kappa' 'lambda' 'mu']]\n",
      "\n",
      "Concatenating two dimensional array along the vertical axis : \n",
      "[[' alpha' 'beta' 'gamma' 'eta' 'theta' 'iota']\n",
      " ['delta' 'epsilon' 'zeta' 'kappa' 'lambda' 'mu']]\n"
     ]
    }
   ],
   "source": [
    "# np.concatenate : Concatenating 1D arrays\n",
    "print(\"Concatenating one dimensional array : {}\".format(np.concatenate([['delta','epsilon'],['zeta']])))\n",
    "\n",
    "# np.concatenate : Concatenating multidimensional arrays\n",
    "two_dim_concat_x = [[' alpha','beta','gamma'],\n",
    "                    ['delta','epsilon','zeta']]\n",
    "two_dim_concat_y = [['eta','theta','iota'],\n",
    "                   ['kappa','lambda','mu']]\n",
    "\n",
    "print(\"\\nConcatenating two dimensional array : \\n{}\"\n",
    "      .format(np.concatenate([two_dim_concat_x,two_dim_concat_y])))\n",
    "\n",
    "print(\"\\nConcatenating two dimensional array along the vertical axis : \\n{}\"\n",
    "      .format(np.concatenate([two_dim_concat_x,two_dim_concat_y],axis=1)))\n"
   ]
  },
  {
   "cell_type": "code",
   "execution_count": 55,
   "metadata": {},
   "outputs": [
    {
     "name": "stdout",
     "output_type": "stream",
     "text": [
      "\n",
      "Concatenating mixed dimensional array using vstack : \n",
      "[['nu' 'zi' 'omicron']\n",
      " ['eta' 'theta' 'iota']\n",
      " ['kappa' 'lambda' 'mu']]\n",
      "\n",
      "Concatenating mixed dimensional array using hstack : \n",
      "[['pi' ' alpha' 'beta' 'gamma']\n",
      " ['rho' 'delta' 'epsilon' 'zeta']]\n"
     ]
    }
   ],
   "source": [
    "# Concatenating mixed dimensional arrays with vstack\n",
    "print(\"\\nConcatenating mixed dimensional array using vstack : \\n{}\".format(np.vstack([['nu','zi','omicron'],two_dim_concat_y])))\n",
    "\n",
    "# Concatenating mixed dimensional arrays with hstack\n",
    "print(\"\\nConcatenating mixed dimensional array using hstack : \\n{}\".format(np.hstack([[['pi'],\n",
    "                                                                                       ['rho']],two_dim_concat_x])))"
   ]
  },
  {
   "cell_type": "markdown",
   "metadata": {},
   "source": [
    "> **Splitting Arrays**\n",
    "\n",
    "    Splitting an array in NumPy is implemented by functions np.split, np.hsplit, np.vsplit and np.dsplit.\n",
    "    Input to this function is the array to be split and the list of split points."
   ]
  },
  {
   "cell_type": "code",
   "execution_count": 139,
   "metadata": {},
   "outputs": [
    {
     "data": {
      "text/plain": [
       "array([[['Hydrogen', 'Helium', 'Lithium', 'Beryllium'],\n",
       "        ['Boron', 'Carbon', 'Nitrogen', 'Oxygen'],\n",
       "        ['Flourine', 'Neon', 'Sodium', 'Magnesium']],\n",
       "\n",
       "       [['Aluminium', 'Silicon', 'Phosphorus', 'Sulfur'],\n",
       "        ['Chlorine', 'Argon', 'Potassium', 'Calcium'],\n",
       "        ['Scandium', 'Titanium', 'Vanadium', 'Chromium']]], dtype='<U10')"
      ]
     },
     "execution_count": 139,
     "metadata": {},
     "output_type": "execute_result"
    }
   ],
   "source": [
    "# Consider this (2,3,4) array for splitting\n",
    "array_split = np.array([[[\"Hydrogen\",\"Helium\",\"Lithium\",\"Beryllium\"],\n",
    "                         [\"Boron\",\"Carbon\",\"Nitrogen\",\"Oxygen\"],\n",
    "                         [\"Flourine\",\"Neon\",\"Sodium\",\"Magnesium\"]],\n",
    "                        [[\"Aluminium\",\"Silicon\",\"Phosphorus\",\"Sulfur\"],\n",
    "                         [\"Chlorine\",\"Argon\",\"Potassium\",\"Calcium\"],\n",
    "                         [\"Scandium\",\"Titanium\",\"Vanadium\",\"Chromium\"]]])\n",
    "\n",
    "array_split"
   ]
  },
  {
   "cell_type": "code",
   "execution_count": 145,
   "metadata": {},
   "outputs": [
    {
     "name": "stdout",
     "output_type": "stream",
     "text": [
      "Split Piece 1 :\n",
      "\n",
      " [[['Hydrogen' 'Helium' 'Lithium' 'Beryllium']\n",
      "  ['Boron' 'Carbon' 'Nitrogen' 'Oxygen']\n",
      "  ['Flourine' 'Neon' 'Sodium' 'Magnesium']]]\n",
      "\n",
      "\n",
      "Split Piece 2 :\n",
      "\n",
      " [[['Aluminium' 'Silicon' 'Phosphorus' 'Sulfur']\n",
      "  ['Chlorine' 'Argon' 'Potassium' 'Calcium']\n",
      "  ['Scandium' 'Titanium' 'Vanadium' 'Chromium']]]\n"
     ]
    }
   ],
   "source": [
    "# vsplit splits at axis 0 at point 1\n",
    "split_piece_1,split_piece_2 = np.vsplit(array_split,[1])\n",
    "\n",
    "print(f'Split Piece 1 :\\n\\n {split_piece_1}')\n",
    "print(\"\\n\")\n",
    "print(f'Split Piece 2 :\\n\\n {split_piece_2}')"
   ]
  },
  {
   "cell_type": "code",
   "execution_count": 146,
   "metadata": {},
   "outputs": [
    {
     "name": "stdout",
     "output_type": "stream",
     "text": [
      "Split Piece 3 :\n",
      "\n",
      " [[['Hydrogen' 'Helium' 'Lithium' 'Beryllium']]\n",
      "\n",
      " [['Aluminium' 'Silicon' 'Phosphorus' 'Sulfur']]]\n",
      "\n",
      "\n",
      "Split Piece 4 :\n",
      "\n",
      " [[['Boron' 'Carbon' 'Nitrogen' 'Oxygen']\n",
      "  ['Flourine' 'Neon' 'Sodium' 'Magnesium']]\n",
      "\n",
      " [['Chlorine' 'Argon' 'Potassium' 'Calcium']\n",
      "  ['Scandium' 'Titanium' 'Vanadium' 'Chromium']]]\n"
     ]
    }
   ],
   "source": [
    "# hsplit splits at axis 1 at point 1\n",
    "split_piece_3,split_piece_4 = np.hsplit(array_split,[1])\n",
    "\n",
    "print(f'Split Piece 3 :\\n\\n {split_piece_3}')\n",
    "print(\"\\n\")\n",
    "print(f'Split Piece 4 :\\n\\n {split_piece_4}')"
   ]
  },
  {
   "cell_type": "code",
   "execution_count": 147,
   "metadata": {},
   "outputs": [
    {
     "name": "stdout",
     "output_type": "stream",
     "text": [
      "Split Piece 5 :\n",
      "\n",
      " [[['Hydrogen']\n",
      "  ['Boron']\n",
      "  ['Flourine']]\n",
      "\n",
      " [['Aluminium']\n",
      "  ['Chlorine']\n",
      "  ['Scandium']]]\n",
      "\n",
      "\n",
      "Split Piece 6 :\n",
      "\n",
      " [[['Helium']\n",
      "  ['Carbon']\n",
      "  ['Neon']]\n",
      "\n",
      " [['Silicon']\n",
      "  ['Argon']\n",
      "  ['Titanium']]]\n",
      "\n",
      "\n",
      "Split Piece 7 :\n",
      "\n",
      " [[['Lithium' 'Beryllium']\n",
      "  ['Nitrogen' 'Oxygen']\n",
      "  ['Sodium' 'Magnesium']]\n",
      "\n",
      " [['Phosphorus' 'Sulfur']\n",
      "  ['Potassium' 'Calcium']\n",
      "  ['Vanadium' 'Chromium']]]\n"
     ]
    }
   ],
   "source": [
    "# dsplit splits at axis 2\n",
    "split_piece_5,split_piece_6,split_piece_7 = np.dsplit(array_split,[1,2])\n",
    "\n",
    "print(f'Split Piece 5 :\\n\\n {split_piece_5}')\n",
    "print(\"\\n\")\n",
    "print(f'Split Piece 6 :\\n\\n {split_piece_6}')\n",
    "print(\"\\n\")\n",
    "print(f'Split Piece 7 :\\n\\n {split_piece_7}')"
   ]
  },
  {
   "cell_type": "markdown",
   "metadata": {},
   "source": [
    "> #### Repeating Elements : repeat and tile methods\n",
    "\n",
    "    Repeating refers to repeating individual elements and tile method repeats the array as blocks.\n",
    "    \n",
    "    Please Note :\n",
    "    1. If axis is omitted for a repeat method on multidimensional array, the array is flattened.\n",
    "    2. \n",
    "    "
   ]
  },
  {
   "cell_type": "code",
   "execution_count": 61,
   "metadata": {},
   "outputs": [
    {
     "name": "stdout",
     "output_type": "stream",
     "text": [
      "Original Array :[0 1 2 3]\n",
      "Repeated Array using an array as input :[0 0 1 1 1 2 2 2 2 3 3 3 3 3]\n",
      "Repeated Array using an integer as input :[0 0 1 1 2 2 3 3]\n"
     ]
    }
   ],
   "source": [
    "arr_rep = np.arange(4)\n",
    "print(f\"Original Array :{arr_rep}\")\n",
    "\n",
    "# .repeat() by passing an array\n",
    "print(f\"Repeated Array using an array as input :{arr_rep.repeat([2,3,4,5])}\")\n",
    "\n",
    "# .repeat() by passing integer input\n",
    "print(f\"Repeated Array using an integer as input :{arr_rep.repeat(2)}\")"
   ]
  },
  {
   "cell_type": "code",
   "execution_count": 150,
   "metadata": {},
   "outputs": [
    {
     "name": "stdout",
     "output_type": "stream",
     "text": [
      "Original array: \n",
      " [[[-0.2002186   0.02174383]\n",
      "  [-0.21563199  0.74020422]]\n",
      "\n",
      " [[ 0.33666958 -0.73115436]\n",
      "  [-0.49748933  0.08560858]]\n",
      "\n",
      " [[ 0.15859387  1.2265962 ]\n",
      "  [ 0.45002649  1.101066  ]]]\n",
      "\n",
      "If axis argument is omitted for a multidim array : \n",
      "[-0.2002186  -0.2002186   0.02174383  0.02174383 -0.21563199 -0.21563199\n",
      "  0.74020422  0.74020422  0.33666958  0.33666958 -0.73115436 -0.73115436\n",
      " -0.49748933 -0.49748933  0.08560858  0.08560858  0.15859387  0.15859387\n",
      "  1.2265962   1.2265962   0.45002649  0.45002649  1.101066    1.101066  ]\n"
     ]
    },
    {
     "data": {
      "text/plain": [
       "array([[[-0.2002186 , -0.2002186 ,  0.02174383,  0.02174383],\n",
       "        [-0.21563199, -0.21563199,  0.74020422,  0.74020422]],\n",
       "\n",
       "       [[ 0.33666958,  0.33666958, -0.73115436, -0.73115436],\n",
       "        [-0.49748933, -0.49748933,  0.08560858,  0.08560858]],\n",
       "\n",
       "       [[ 0.15859387,  0.15859387,  1.2265962 ,  1.2265962 ],\n",
       "        [ 0.45002649,  0.45002649,  1.101066  ,  1.101066  ]]])"
      ]
     },
     "execution_count": 150,
     "metadata": {},
     "output_type": "execute_result"
    }
   ],
   "source": [
    "arr_rep_multidim =np.random.randn(3,2,2)\n",
    "print(f'Original array: \\n {arr_rep_multidim}')\n",
    "# If axis is omitted for a repeat method on multidimensional array, the array is flattened\n",
    "print(f'\\nIf axis argument is omitted for a multidim array : \\n{arr_rep_multidim.repeat(2)}')\n",
    "\n",
    "# The array can be repeated in any axis\n",
    "arr_rep_multidim.repeat(2,axis=2)"
   ]
  },
  {
   "cell_type": "code",
   "execution_count": 63,
   "metadata": {},
   "outputs": [
    {
     "data": {
      "text/plain": [
       "array([0, 1, 2, 3, 0, 1, 2, 3, 0, 1, 2, 3])"
      ]
     },
     "execution_count": 63,
     "metadata": {},
     "output_type": "execute_result"
    }
   ],
   "source": [
    "# tile() for a one dimensional array\n",
    "np.tile(arr_rep,3)"
   ]
  },
  {
   "cell_type": "code",
   "execution_count": 157,
   "metadata": {},
   "outputs": [
    {
     "data": {
      "text/plain": [
       "array([[[-0.2002186 ,  0.02174383],\n",
       "        [-0.21563199,  0.74020422],\n",
       "        [-0.2002186 ,  0.02174383],\n",
       "        [-0.21563199,  0.74020422]],\n",
       "\n",
       "       [[ 0.33666958, -0.73115436],\n",
       "        [-0.49748933,  0.08560858],\n",
       "        [ 0.33666958, -0.73115436],\n",
       "        [-0.49748933,  0.08560858]],\n",
       "\n",
       "       [[ 0.15859387,  1.2265962 ],\n",
       "        [ 0.45002649,  1.101066  ],\n",
       "        [ 0.15859387,  1.2265962 ],\n",
       "        [ 0.45002649,  1.101066  ]]])"
      ]
     },
     "execution_count": 157,
     "metadata": {},
     "output_type": "execute_result"
    }
   ],
   "source": [
    "# tile() for a multi-dimensional array stacks the tiles along the axis mentioned \n",
    "np.tile(arr_rep_multidim,(2,1))"
   ]
  },
  {
   "cell_type": "code",
   "execution_count": null,
   "metadata": {},
   "outputs": [],
   "source": []
  }
 ],
 "metadata": {
  "kernelspec": {
   "display_name": "Python 3",
   "language": "python",
   "name": "python3"
  },
  "language_info": {
   "codemirror_mode": {
    "name": "ipython",
    "version": 3
   },
   "file_extension": ".py",
   "mimetype": "text/x-python",
   "name": "python",
   "nbconvert_exporter": "python",
   "pygments_lexer": "ipython3",
   "version": "3.7.3"
  }
 },
 "nbformat": 4,
 "nbformat_minor": 2
}
