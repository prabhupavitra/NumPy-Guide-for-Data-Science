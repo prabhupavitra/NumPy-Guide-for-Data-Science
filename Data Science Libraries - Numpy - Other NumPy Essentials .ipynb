{
 "cells": [
  {
   "cell_type": "markdown",
   "metadata": {},
   "source": [
    "## <center>Fancy Indexing, Sorting, Aggregations and more ..</center>\n",
    "\n",
    "    This notebook introduces concepts of fancy indexing, sorting, aggregations, masking, set operations and \n",
    "    various others that demonstrates the computational efficiency of NumPy in the data science world.\n",
    "   \n",
    "    The topics covered in this notebook are as follows:\n",
    "       \n",
    "    1. Fancy Indexing\n",
    "        \n",
    "        - Fancy Indexing a one-dimension array\n",
    "        - Fancy Indexing a multi-dimension array\n",
    "        - Combining Fancy Indexing and Simple Indices\n",
    "        - Combining Fancy Indexing and Slicing\n",
    "        - Combining Fancy Indexing and Masking Operations\n",
    "        \n",
    "    2. Sorting Arrays\n",
    "    \n",
    "        - Sorting a one-dimensional array\n",
    "        - Sorting a multi-dimensional array\n",
    "        - Partial Sorts : Partitioning a one-dimensional array\n",
    "        - Partial Sorts : Partitioning a multi-dimensional array\n",
    "      \n",
    "    3. Aggregations (also called \"Reductions\")**\n",
    "      \n",
    "        - Mathematical and Statistical Methods\n",
    "        - Methods for Boolean Arrays\n",
    "        - Masking Operations and Aggregates\n",
    "        - Boolean Masks  \n",
    "        \n",
    "    4. Set Operations**\n",
    "    \n",
    "        - np.unique\n",
    "        - np.in1d()\n",
    "        - np.intersect1d()\n",
    "        - np.union1d()\n",
    "        - np.setdiff1d()\n",
    "        - np.setxor1d()\n",
    "        \n",
    "    5. Other Topics\n",
    "        \n",
    "        - np.where** : Expressing Conditional Logic as Array Operation \n",
    "        - np.count_nonzero** : Counts the number of True entries \n",
    "\n",
    "    **explained using real world datasets from energy markets and finance"
   ]
  },
  {
   "cell_type": "code",
   "execution_count": 2,
   "metadata": {},
   "outputs": [],
   "source": [
    "# Importing numpy\n",
    "import numpy as np"
   ]
  },
  {
   "cell_type": "markdown",
   "metadata": {},
   "source": [
    "### <center>Fancy Indexing</center>\n",
    "    \n",
    "     It is similar to simple indexing, but, arrays are passed as index instead of scalars.\n",
    "     The shape of the result reflects the shape of the index arrays rather than the shape of the array \n",
    "     being indexed.\n",
    "     \n",
    "     Simple Indexing: arr[3],arr[:3,:]\n",
    "     Advanced Indexing : arr[x,y] where x and y are both arrays\n",
    "     \n",
    "     Listed below are some of the operations possible with fancy indexing :\n",
    "     \n",
    "         Fancy Indexing a one-dimension array\n",
    "         Fancy Indexing a multi-dimension array\n",
    "         Combining Fancy Indexing and Simple Indices\n",
    "         Combining Fancy Indexing and Slicing\n",
    "         Combining Fancy Indexing and Masking Operations"
   ]
  },
  {
   "cell_type": "markdown",
   "metadata": {},
   "source": [
    ">#### Fancy Indexing a one-dimension array"
   ]
  },
  {
   "cell_type": "code",
   "execution_count": 16,
   "metadata": {},
   "outputs": [
    {
     "name": "stdout",
     "output_type": "stream",
     "text": [
      "Original array : [28  7 19 35 27 16 21 15 15 10]\n",
      "\n",
      "Selecting 4th,6th and 9th element of the array :\n",
      "[35 16 15]\n"
     ]
    }
   ],
   "source": [
    "# Consider a one-dimension array\n",
    "arr_onedim = np.random.randint(6,42,size=10)\n",
    "print(f\"Original array : {arr_onedim}\")\n",
    "\n",
    "# To access 4th,6th and 9th element\n",
    "index_array = [3,5,8]\n",
    "print(f'\\nSelecting 4th,6th and 9th element of the array :\\n{arr_onedim[index_array]}')"
   ]
  },
  {
   "cell_type": "markdown",
   "metadata": {},
   "source": [
    ">#### Fancy Indexing a multi-dimension array"
   ]
  },
  {
   "cell_type": "code",
   "execution_count": 17,
   "metadata": {},
   "outputs": [
    {
     "data": {
      "text/plain": [
       "array([[[ 0,  1,  2,  3],\n",
       "        [ 4,  5,  6,  7],\n",
       "        [ 8,  9, 10, 11]],\n",
       "\n",
       "       [[12, 13, 14, 15],\n",
       "        [16, 17, 18, 19],\n",
       "        [20, 21, 22, 23]]])"
      ]
     },
     "execution_count": 17,
     "metadata": {},
     "output_type": "execute_result"
    }
   ],
   "source": [
    "# Fancy Indexing a multi-dimension array\n",
    "array_multi = np.arange(24).reshape((2,3,4))\n",
    "array_multi"
   ]
  },
  {
   "cell_type": "code",
   "execution_count": 18,
   "metadata": {},
   "outputs": [
    {
     "data": {
      "text/plain": [
       "array([[ 0,  3],\n",
       "       [20, 23]])"
      ]
     },
     "execution_count": 18,
     "metadata": {},
     "output_type": "execute_result"
    }
   ],
   "source": [
    "# To access corner elements of the 3D array above, we can use broadcasting technique along with fancy indexing\n",
    "slab = np.array([0,1])\n",
    "row=np.array([0,2])\n",
    "col=np.array([0,3])\n",
    "array_multi[slab[:,np.newaxis],row[:,np.newaxis],col]"
   ]
  },
  {
   "cell_type": "markdown",
   "metadata": {},
   "source": [
    "> #### Fancy Indexing and Simple Indices"
   ]
  },
  {
   "cell_type": "code",
   "execution_count": 19,
   "metadata": {},
   "outputs": [
    {
     "name": "stdout",
     "output_type": "stream",
     "text": [
      "Original array : \n",
      "\n",
      " [[ 0  1  2  3  4]\n",
      " [ 5  6  7  8  9]\n",
      " [10 11 12 13 14]]\n",
      "\n",
      "Accessing 1st,3rd and 5th element of 3rd row :\n",
      "[10 12 14]\n"
     ]
    }
   ],
   "source": [
    "# Consider a 2D array\n",
    "array_twodim = np.arange(15).reshape((3,5))\n",
    "print(f\"Original array : \\n\\n {array_twodim}\")\n",
    "\n",
    "# To access elements from same row or column, we can combing simple indexing with fancy indexing\n",
    "print(f'\\nAccessing 1st,3rd and 5th element of 3rd row :\\n{array_twodim[2,[0,2,4]]}')"
   ]
  },
  {
   "cell_type": "markdown",
   "metadata": {},
   "source": [
    "> #### Fancy Indexing and Slicing"
   ]
  },
  {
   "cell_type": "code",
   "execution_count": 20,
   "metadata": {},
   "outputs": [
    {
     "name": "stdout",
     "output_type": "stream",
     "text": [
      "\n",
      "Accessing elements from even columns and rows 2 and 3 :\n",
      "[[ 5  7  9]\n",
      " [10 12 14]]\n"
     ]
    }
   ],
   "source": [
    "# Combining fancy indexing with slicing we can extend the above operation to more than one row or column\n",
    "# For example, to access elements from even columns and rows 2 and 3\n",
    "print(f'\\nAccessing elements from even columns and rows 2 and 3 :\\n{array_twodim[1:,[0,2,4]]}')"
   ]
  },
  {
   "cell_type": "markdown",
   "metadata": {},
   "source": [
    ">#### Fancy Indexing and Masking Operations"
   ]
  },
  {
   "cell_type": "code",
   "execution_count": 21,
   "metadata": {},
   "outputs": [
    {
     "data": {
      "text/plain": [
       "array([[ 0,  1],\n",
       "       [10, 11]])"
      ]
     },
     "execution_count": 21,
     "metadata": {},
     "output_type": "execute_result"
    }
   ],
   "source": [
    "# Creating a masking array which selects only first 2 columns\n",
    "mask_index_array = np.array([1,1,0,0,0],dtype=bool)\n",
    "\n",
    "# To select elements only on first and 3rd row\n",
    "row = np.array([0,2])\n",
    "\n",
    "array_twodim[row[:,np.newaxis],mask_index_array]"
   ]
  },
  {
   "cell_type": "markdown",
   "metadata": {},
   "source": [
    "### <center>Sorting Arrays</center> \n",
    "\n",
    "     arr.sort() vs np.sort()\n",
    "     \n",
    "         The ndarray sort instance method is an in-place sort(i.e. The array contents are rearranged \n",
    "     without producing a new array) whereas numpy.sort creates a new, sorted copy of an array.\n",
    "     \n",
    "    We shall discuss the following with examples:\n",
    "    \n",
    "    Sorting        : One-dimensional array and Multi-dimensional array\n",
    "    Partial Sorts  : One-dimensional array and Multi-dimensional array\n",
    "    Indirect Sorts : np.argsort and np.lexsort\n",
    "     \n",
    "    Please Note : \n",
    "    1. np.sort uses 𝒪[NlogN] quicksort algorithm,though mergesort and heapsort are also available.\n",
    "    2. np.argsort returns the indices of sorted list\n",
    "    "
   ]
  },
  {
   "cell_type": "markdown",
   "metadata": {},
   "source": [
    ">#### Sorting a one-dimensional array"
   ]
  },
  {
   "cell_type": "code",
   "execution_count": 22,
   "metadata": {},
   "outputs": [
    {
     "name": "stdout",
     "output_type": "stream",
     "text": [
      "Original Array : \n",
      "[254  36 340  57 362  12 235  38 329 102  33 319 199  82   7 351 194  45\n",
      "  82 244 354 285 356 340 142 257 230 137 209 256]\n",
      "\n",
      "Sorted Array : \n",
      " [  7  12  33  36  38  45  57  82  82 102 137 142 194 199 209 230 235 244\n",
      " 254 256 257 285 319 329 340 340 351 354 356 362]\n"
     ]
    }
   ],
   "source": [
    "# Creating a One-dimensional array\n",
    "unsorted_array_onedim = np.random.randint(4,365,size=30)\n",
    "print(f'Original Array : \\n{unsorted_array_onedim}\\n')\n",
    "\n",
    "# Returns Sorted array\n",
    "print(f'Sorted Array : \\n {np.sort(unsorted_array_onedim)}')\n"
   ]
  },
  {
   "cell_type": "markdown",
   "metadata": {},
   "source": [
    ">#### Sorting a multi-dimensional array"
   ]
  },
  {
   "cell_type": "code",
   "execution_count": 23,
   "metadata": {},
   "outputs": [
    {
     "name": "stdout",
     "output_type": "stream",
     "text": [
      "Original Array : \n",
      "\n",
      " [[[218 161 263 172  33]\n",
      "  [116 229  78  92 412]\n",
      "  [319 246 205  87 395]\n",
      "  [277 351 103 142  95]]\n",
      "\n",
      " [[343 101 255 137 340]\n",
      "  [145 401 142 212 407]\n",
      "  [278 269 134 315 215]\n",
      "  [352 197 136 182 187]]\n",
      "\n",
      " [[199 259 286 105 279]\n",
      "  [359 159 422 223   6]\n",
      "  [327 396 240 450  91]\n",
      "  [212 152 103 152 244]]]\n",
      "\n",
      "Sorted array along Axis 0 : \n",
      "\n",
      "[[[199 101 255 105  33]\n",
      "  [116 159  78  92   6]\n",
      "  [278 246 134  87  91]\n",
      "  [212 152 103 142  95]]\n",
      "\n",
      " [[218 161 263 137 279]\n",
      "  [145 229 142 212 407]\n",
      "  [319 269 205 315 215]\n",
      "  [277 197 103 152 187]]\n",
      "\n",
      " [[343 259 286 172 340]\n",
      "  [359 401 422 223 412]\n",
      "  [327 396 240 450 395]\n",
      "  [352 351 136 182 244]]]\n"
     ]
    }
   ],
   "source": [
    "# Creating a multi-dimensional array\n",
    "unsorted_array_multidim = np.random.randint(3,455,size=(3,4,5))\n",
    "print(f'Original Array : \\n\\n {unsorted_array_multidim}')\n",
    "# An optional argument axis will sort along the specified axis\n",
    "print(f'\\nSorted array along Axis 0 : \\n\\n{np.sort(unsorted_array_multidim,axis=0)}')"
   ]
  },
  {
   "cell_type": "markdown",
   "metadata": {},
   "source": [
    ">#### Partial Sorts : Partitioning a one-dimensional array\n",
    "    \n",
    "        Takes an input of an array and number k , resulting in an array with k smallest values to the left of the \n",
    "        array and remaining to the right in arbitrary order"
   ]
  },
  {
   "cell_type": "code",
   "execution_count": 24,
   "metadata": {},
   "outputs": [
    {
     "name": "stdout",
     "output_type": "stream",
     "text": [
      "Original Array : \n",
      " [32 53 24 13 52 20 30 24 26 30]\n"
     ]
    },
    {
     "data": {
      "text/plain": [
       "array([20, 13, 24, 24, 26, 30, 30, 32, 53, 52])"
      ]
     },
     "execution_count": 24,
     "metadata": {},
     "output_type": "execute_result"
    }
   ],
   "source": [
    "# Consider a one-dimensional array\n",
    "arr_part_onedim = np.random.randint(3,55,size=10)\n",
    "print(f'Original Array : \\n {arr_part_onedim}')\n",
    "\n",
    "# Pushes 4 smallest values to the left of the array\n",
    "np.partition(arr_part_onedim,4)"
   ]
  },
  {
   "cell_type": "markdown",
   "metadata": {},
   "source": [
    ">#### Partial Sorts : Partitioning a multi-dimensional array"
   ]
  },
  {
   "cell_type": "code",
   "execution_count": 25,
   "metadata": {},
   "outputs": [
    {
     "name": "stdout",
     "output_type": "stream",
     "text": [
      "Original Array : \n",
      " [[[17 41  8 49 53 18]\n",
      "  [48 38 52  5 39 16]\n",
      "  [15 26 49 27  5 27]\n",
      "  [29  3 30 18 17 15]]\n",
      "\n",
      " [[ 7 37  5 23 10 16]\n",
      "  [47 15 41 35 40 16]\n",
      "  [ 7 10  5 39 28 14]\n",
      "  [38  4 44 54 38 11]]]\n"
     ]
    },
    {
     "data": {
      "text/plain": [
       "array([[[15,  3,  8,  5,  5, 15],\n",
       "        [17, 26, 30, 18, 17, 16],\n",
       "        [29, 38, 49, 27, 39, 18],\n",
       "        [48, 41, 52, 49, 53, 27]],\n",
       "\n",
       "       [[ 7,  4,  5, 23, 10, 11],\n",
       "        [ 7, 10,  5, 35, 28, 14],\n",
       "        [38, 15, 41, 39, 38, 16],\n",
       "        [47, 37, 44, 54, 40, 16]]])"
      ]
     },
     "execution_count": 25,
     "metadata": {},
     "output_type": "execute_result"
    }
   ],
   "source": [
    "# Consider a multi-dimensional array\n",
    "arr_part_multidim =  np.random.randint(3,55,size=(2,4,6))\n",
    "print(f'Original Array : \\n {arr_part_multidim}')\n",
    "\n",
    "# Partitions along axis 1 with 2 smallest elements to the left of the array\n",
    "np.partition(arr_part_multidim,2,axis=1)"
   ]
  },
  {
   "cell_type": "markdown",
   "metadata": {},
   "source": [
    "> #### Indirect Sorts : np.argsort"
   ]
  },
  {
   "cell_type": "code",
   "execution_count": 26,
   "metadata": {},
   "outputs": [
    {
     "name": "stdout",
     "output_type": "stream",
     "text": [
      "Original Array : \n",
      " [254  36 340  57 362  12 235  38 329 102  33 319 199  82   7 351 194  45\n",
      "  82 244 354 285 356 340 142 257 230 137 209 256]\n",
      "\n",
      "Indices of Sorted Array : \n",
      " [14  5 10  1  7 17  3 13 18  9 27 24 16 12 28 26  6 19  0 29 25 21 11  8\n",
      " 23  2 15 20 22  4]\n"
     ]
    },
    {
     "data": {
      "text/plain": [
       "array([  7,  12,  33,  36,  38,  45,  57,  82,  82, 102, 137, 142, 194,\n",
       "       199, 209, 230, 235, 244, 254, 256, 257, 285, 319, 329, 340, 340,\n",
       "       351, 354, 356, 362])"
      ]
     },
     "execution_count": 26,
     "metadata": {},
     "output_type": "execute_result"
    }
   ],
   "source": [
    "# Returns indices of sorted array\n",
    "print(f'Original Array : \\n {unsorted_array_onedim}')\n",
    "\n",
    "indices_argsort = np.argsort(unsorted_array_onedim)\n",
    "print(f'\\nIndices of Sorted Array : \\n {indices_argsort}')\n",
    "\n",
    "# Sorted array can then be obtained by passing the sorted indices\n",
    "unsorted_array_onedim[indices_argsort]"
   ]
  },
  {
   "cell_type": "code",
   "execution_count": 27,
   "metadata": {},
   "outputs": [
    {
     "name": "stdout",
     "output_type": "stream",
     "text": [
      "Original Array : \n",
      " [[[ 62  31  82  53  31]\n",
      "  [ 27  63  54  28  76]\n",
      "  [ 76  79  33  97  30]\n",
      "  [ 45  99  39  81  53]]\n",
      "\n",
      " [[ 99  22  10  74  37]\n",
      "  [ 86  65  64  40  18]\n",
      "  [  7  38  28   7  37]\n",
      "  [ 66  42  84  81  13]]\n",
      "\n",
      " [[100  91  89  98  59]\n",
      "  [  5   7  45  66 100]\n",
      "  [ 97   8  73  73   6]\n",
      "  [ 23   7  38  49  82]]]\n"
     ]
    }
   ],
   "source": [
    "# Now, lets consider the multidimensional array\n",
    "# Consider a multi-dimensional array\n",
    "unsorted_argsort_multidim =  np.random.randint(3,105,size=(3,4,5))\n",
    "print(f'Original Array : \\n {unsorted_argsort_multidim}')"
   ]
  },
  {
   "cell_type": "code",
   "execution_count": 28,
   "metadata": {},
   "outputs": [
    {
     "data": {
      "text/plain": [
       "array([[[ 31,  31,  53,  62,  82],\n",
       "        [ 63,  76,  28,  27,  54],\n",
       "        [ 79,  30,  97,  76,  33],\n",
       "        [ 99,  53,  81,  45,  39]],\n",
       "\n",
       "       [[ 10,  22,  37,  74,  99],\n",
       "        [ 64,  65,  18,  40,  86],\n",
       "        [ 28,  38,  37,   7,   7],\n",
       "        [ 84,  42,  13,  81,  66]],\n",
       "\n",
       "       [[ 59,  89,  91,  98, 100],\n",
       "        [100,  45,   7,  66,   5],\n",
       "        [  6,  73,   8,  73,  97],\n",
       "        [ 82,  38,   7,  49,  23]]])"
      ]
     },
     "execution_count": 28,
     "metadata": {},
     "output_type": "execute_result"
    }
   ],
   "source": [
    "# Sorting multidimensional arrays are quite complicated; \n",
    "#To examine, lets sort the multidimensional array by Row 0 of each slab\n",
    "np.array([unsorted_argsort_multidim[:,:,unsorted_argsort_multidim[:,0,:].argsort()[0]][0],\n",
    "          unsorted_argsort_multidim[:,:,unsorted_argsort_multidim[:,0,:].argsort()[1]][1],\n",
    "          unsorted_argsort_multidim[:,:,unsorted_argsort_multidim[:,0,:].argsort()[2]][2]])"
   ]
  },
  {
   "cell_type": "markdown",
   "metadata": {},
   "source": [
    "> #### Indirect Sorts : np.lexsort"
   ]
  },
  {
   "cell_type": "code",
   "execution_count": 29,
   "metadata": {},
   "outputs": [
    {
     "data": {
      "text/plain": [
       "[('Agassi', 'Andre'),\n",
       " ('Djokovic', 'Novak'),\n",
       " ('Federer', 'Roger'),\n",
       " ('Murray', 'Andy'),\n",
       " ('Sampras', 'Pete'),\n",
       " ('Williams', 'Serena'),\n",
       " ('Williams', 'Venus')]"
      ]
     },
     "execution_count": 29,
     "metadata": {},
     "output_type": "execute_result"
    }
   ],
   "source": [
    "# np.lexsort performs lexicographical sort on multiple key arrays\n",
    "# Lets examine np.lexsort for sorting names by last name, first name\n",
    "lastname = np.array(['Williams','Djokovic','Williams','Federer','Sampras','Murray','Agassi'])\n",
    "firstname = np.array(['Venus','Novak','Serena','Roger','Pete','Andy','Andre'])\n",
    "sorterarray = np.lexsort((firstname,lastname))\n",
    "list(zip(lastname[sorterarray],firstname[sorterarray]))"
   ]
  },
  {
   "cell_type": "markdown",
   "metadata": {},
   "source": [
    "### <center>Aggregations</center>\n",
    "\n",
    "        One of the fundamental steps in analyzing huge data is computing summary statistics of the data.\n",
    "      NumPy has various built-in Aggregation functions to accomplish the same.\n",
    "\n",
    "      Aggregate functions take an optional input for 'axis' which will perform the aggregations row-\n",
    "      wise(axis=1) or column-wise(axis =0). Below is a list of Aggregate methods with corresponding nan-safe \n",
    "      methods within the parenthesis.\n",
    "\n",
    "      Mathematical methods :\n",
    "      \n",
    "        - sum (nansum)\n",
    "        - prod (nanprod)\n",
    "        \n",
    "      Statistical methods :\n",
    "        \n",
    "        - mean (nanmean)\n",
    "        - std (nanstd)\n",
    "        - var (nanvar)\n",
    "        - min (nanmin)\n",
    "        - max (nanmax)\n",
    "        - argmin (nanargmin)\n",
    "        - argmax (nanargmax)\n",
    "        - cumsum (nancumsum)\n",
    "        - cumprod (nancumprod)\n",
    "        - median (nanmedian)\n",
    "        - percentile (nanpercentile)\n",
    "      \n",
    "      Methods for Boolean Arrays\n",
    "      \n",
    "        - any (Not applicable)\n",
    "        - all (Not applicable)\n",
    "        \n",
    "   \n",
    "       PLEASE NOTE : \n",
    "       1. The nan-safe versions of all aggregate functions omit nan values.\n",
    "       2. If the optional argument 'axis' is omitted, the aggregation is performed on the whole array.\n",
    "       \n"
   ]
  },
  {
   "cell_type": "markdown",
   "metadata": {},
   "source": [
    ">**Mathematical and Statistical Methods**"
   ]
  },
  {
   "cell_type": "code",
   "execution_count": 30,
   "metadata": {},
   "outputs": [
    {
     "data": {
      "text/plain": [
       "array([[0.13426573, 0.04840405, 0.90738886],\n",
       "       [0.47304773, 0.67132658, 0.96662008],\n",
       "       [0.82404182, 0.31829066, 0.15492189],\n",
       "       [0.54457123, 0.53162212, 0.24624632]])"
      ]
     },
     "execution_count": 30,
     "metadata": {},
     "output_type": "execute_result"
    }
   ],
   "source": [
    "# Creating an array to demonstrate Aggregations\n",
    "arr_testagg = np.random.random((4,3))\n",
    "arr_testagg"
   ]
  },
  {
   "cell_type": "code",
   "execution_count": 31,
   "metadata": {},
   "outputs": [
    {
     "name": "stdout",
     "output_type": "stream",
     "text": [
      "Sum of all elements in the array :\n",
      "5.820747084912215\n",
      "\n",
      "Sum of all elements in the array along axis 0/column-wise:\n",
      "[1.97592651 1.56964342 2.27517715]\n",
      "\n",
      "Sum of all elements in the array along axis 1/row-wise:\n",
      "[1.09005864 2.1109944  1.29725437 1.32243968]\n"
     ]
    }
   ],
   "source": [
    "# Computes the sum of all elements in an array; an optional input \"axis\" will compute row-wise sum or column-wise sum\n",
    "\n",
    "print(f'Sum of all elements in the array :\\n{np.sum(arr_testagg)}')\n",
    "\n",
    "print(f'\\nSum of all elements in the array along axis 0/column-wise:\\n{np.sum(arr_testagg,axis=0)}')\n",
    "\n",
    "print(f'\\nSum of all elements in the array along axis 1/row-wise:\\n{np.sum(arr_testagg,axis=1)}')"
   ]
  },
  {
   "cell_type": "code",
   "execution_count": 32,
   "metadata": {},
   "outputs": [
    {
     "name": "stdout",
     "output_type": "stream",
     "text": [
      "Product of all elements in the array : 5.243827350602877e-06\n"
     ]
    }
   ],
   "source": [
    "# Computes the product of all elements in the array\n",
    "print(f'Product of all elements in the array : {np.prod(arr_testagg)}')"
   ]
  },
  {
   "cell_type": "code",
   "execution_count": 33,
   "metadata": {},
   "outputs": [
    {
     "name": "stdout",
     "output_type": "stream",
     "text": [
      "Average of all elements in the array : 0.4850622570760179\n"
     ]
    }
   ],
   "source": [
    "# Computes the average of all elements in the array\n",
    "print(f'Average of all elements in the array : {np.mean(arr_testagg)}')"
   ]
  },
  {
   "cell_type": "code",
   "execution_count": 34,
   "metadata": {},
   "outputs": [
    {
     "name": "stdout",
     "output_type": "stream",
     "text": [
      "Standard Deviation of all elements in the array : 0.299065182435198\n"
     ]
    }
   ],
   "source": [
    "# Computes the standard deviation of all elements in the array\n",
    "print(f'Standard Deviation of all elements in the array : {np.std(arr_testagg)}')"
   ]
  },
  {
   "cell_type": "code",
   "execution_count": 35,
   "metadata": {},
   "outputs": [
    {
     "name": "stdout",
     "output_type": "stream",
     "text": [
      "Variance of all elements in the array : 0.08943998334499825\n"
     ]
    }
   ],
   "source": [
    "# Computes the variance of all elements in the array\n",
    "print(f'Variance of all elements in the array : {np.var(arr_testagg)}')"
   ]
  },
  {
   "cell_type": "code",
   "execution_count": 36,
   "metadata": {},
   "outputs": [
    {
     "name": "stdout",
     "output_type": "stream",
     "text": [
      "Minimum of all elements in the array : 0.0484040525106717\n"
     ]
    }
   ],
   "source": [
    "# Computes the minimum of all elements in the array\n",
    "print(f'Minimum of all elements in the array : {np.min(arr_testagg)}')"
   ]
  },
  {
   "cell_type": "code",
   "execution_count": 37,
   "metadata": {},
   "outputs": [
    {
     "name": "stdout",
     "output_type": "stream",
     "text": [
      "Maximum of all elements in the array : 0.9666200809145659\n"
     ]
    }
   ],
   "source": [
    "# Computes the maximum of all elements in the array\n",
    "print(f'Maximum of all elements in the array : {np.max(arr_testagg)}')"
   ]
  },
  {
   "cell_type": "code",
   "execution_count": 38,
   "metadata": {},
   "outputs": [
    {
     "name": "stdout",
     "output_type": "stream",
     "text": [
      "Index of Minimum value of all elements in the array : 1\n"
     ]
    }
   ],
   "source": [
    "# Computes the index of the minimum value of all the elements in the array\n",
    "print(f'Index of Minimum value of all elements in the array : {np.argmin(arr_testagg)}')"
   ]
  },
  {
   "cell_type": "code",
   "execution_count": 39,
   "metadata": {},
   "outputs": [
    {
     "name": "stdout",
     "output_type": "stream",
     "text": [
      "Index of Maximum of all elements in the array : 5\n"
     ]
    }
   ],
   "source": [
    "# Computes the index of the maximum value of all the elements in the array\n",
    "print(f'Index of Maximum of all elements in the array : {np.argmax(arr_testagg)}')"
   ]
  },
  {
   "cell_type": "code",
   "execution_count": 40,
   "metadata": {},
   "outputs": [
    {
     "name": "stdout",
     "output_type": "stream",
     "text": [
      "Median of all elements in the array : 0.5023349277889839\n"
     ]
    }
   ],
   "source": [
    "# Computes the median of all the elements in the array\n",
    "print(f'Median of all elements in the array : {np.median(arr_testagg)}')"
   ]
  },
  {
   "cell_type": "code",
   "execution_count": 41,
   "metadata": {},
   "outputs": [
    {
     "name": "stdout",
     "output_type": "stream",
     "text": [
      "Percentile of all elements in the array : 0.9340429115441379\n"
     ]
    }
   ],
   "source": [
    "# Computes the rank based statistics of all the elements in the array; Value at 95 percentile\n",
    "print(f'Percentile of all elements in the array : {np.percentile(arr_testagg,95)}')"
   ]
  },
  {
   "cell_type": "markdown",
   "metadata": {},
   "source": [
    ">**Methods for Boolean Arrays**"
   ]
  },
  {
   "cell_type": "code",
   "execution_count": 42,
   "metadata": {},
   "outputs": [
    {
     "name": "stdout",
     "output_type": "stream",
     "text": [
      "Evaluates Whether any of the element in the array is equal to 1 : True\n"
     ]
    },
    {
     "data": {
      "text/plain": [
       "array([[0.13426573, 0.04840405, 0.90738886],\n",
       "       [0.47304773, 0.67132658, 1.        ],\n",
       "       [0.82404182, 0.31829066, 0.15492189],\n",
       "       [0.54457123, 0.53162212, 0.24624632]])"
      ]
     },
     "execution_count": 42,
     "metadata": {},
     "output_type": "execute_result"
    }
   ],
   "source": [
    "# Evaluates Whether any of elements is greater than 0 or true\n",
    "arr_testagg[1,2] = 1\n",
    "print(f'Evaluates Whether any of the element in the array is equal to 1 : {np.any(arr_testagg==1)}')\n",
    "arr_testagg"
   ]
  },
  {
   "cell_type": "code",
   "execution_count": 43,
   "metadata": {},
   "outputs": [
    {
     "name": "stdout",
     "output_type": "stream",
     "text": [
      "Evaluates Whether all the elements are greater than or equal to zero : True\n",
      "\n",
      "Evaluates Whether all the elements are less than or equal to zero : False\n"
     ]
    },
    {
     "data": {
      "text/plain": [
       "array([[0.13426573, 0.04840405, 0.90738886],\n",
       "       [0.47304773, 0.67132658, 0.        ],\n",
       "       [0.82404182, 0.31829066, 0.15492189],\n",
       "       [0.54457123, 0.53162212, 0.24624632]])"
      ]
     },
     "execution_count": 43,
     "metadata": {},
     "output_type": "execute_result"
    }
   ],
   "source": [
    "# Computes whether all the elements are True\n",
    "arr_testagg[1,2] = 0 \n",
    "print(f'Evaluates Whether all the elements are greater than or equal to zero : {np.all(arr_testagg>=0)}')\n",
    "print(f'\\nEvaluates Whether all the elements are less than or equal to zero : {np.all(arr_testagg<=0)}')\n",
    "arr_testagg\n"
   ]
  },
  {
   "cell_type": "markdown",
   "metadata": {},
   "source": [
    "### <center>Real world datasets</center>\n"
   ]
  },
  {
   "cell_type": "markdown",
   "metadata": {},
   "source": [
    "> #### EXAMPLE 1: Average Annual Crude Oil Price from 1983-2013\n",
    "\n",
    "    This dataset consists of annual Crude Oil prices along with GDP, inflation data and Exchange rate (EUR/USD) \n",
    "    from 1986 till 2018.\n",
    "    \n",
    "    Column Descriptions:\n",
    "    \n",
    "    Year : Year from 1986 - 2018\n",
    "    Spot Price : Cushing, OK WTI Spot Price FOB (Dollars per Barrel)\n",
    "    Nominal : Annual Average Crude Oil Prices West Texas Intermediate (WTI) - Cushing, Oklahoma(Dollars per Barrel)\n",
    "    Nominal Change : General Nominal Price change (Dollars per Barrel)\n",
    "    GDP Growth : Annual Average Gross Domestic Product Growth Rate on a year-over-year basis \n",
    "    GDP : Annual Average Gross Domestic Product(billions of chained 2012 dollars)\n",
    "    Inflation : Annual Average Consumer Price Index for all Urban Consumers\n",
    "    Exchange Rate : Annual Average EUR/USD Exchange Rate\n",
    "    \n",
    "    Reference : Crude oil Nominal https://www.eia.gov/outlooks/steo/realprices/\n",
    "                Inflation https://www.bls.gov/cpi/data.htm\n",
    "                GDP https://www.bea.gov/data/gdp/gross-domestic-product\n",
    "                Spot Price https://www.eia.gov/dnav/pet/hist/LeafHandler.ashx?n=PET&s=RWTC&f=A    \n",
    "                \n",
    "    "
   ]
  },
  {
   "cell_type": "code",
   "execution_count": 44,
   "metadata": {},
   "outputs": [
    {
     "data": {
      "text/html": [
       "<div>\n",
       "<style scoped>\n",
       "    .dataframe tbody tr th:only-of-type {\n",
       "        vertical-align: middle;\n",
       "    }\n",
       "\n",
       "    .dataframe tbody tr th {\n",
       "        vertical-align: top;\n",
       "    }\n",
       "\n",
       "    .dataframe thead th {\n",
       "        text-align: right;\n",
       "    }\n",
       "</style>\n",
       "<table border=\"1\" class=\"dataframe\">\n",
       "  <thead>\n",
       "    <tr style=\"text-align: right;\">\n",
       "      <th></th>\n",
       "      <th>Year</th>\n",
       "      <th>Spot Price</th>\n",
       "      <th>Nominal</th>\n",
       "      <th>Nominal Change</th>\n",
       "      <th>GDP Growth</th>\n",
       "      <th>GDP</th>\n",
       "      <th>CPI</th>\n",
       "      <th>EUR USD Exchange Rate</th>\n",
       "    </tr>\n",
       "  </thead>\n",
       "  <tbody>\n",
       "    <tr>\n",
       "      <th>0</th>\n",
       "      <td>1986</td>\n",
       "      <td>15.05</td>\n",
       "      <td>13.93</td>\n",
       "      <td>-13.06</td>\n",
       "      <td>3.5</td>\n",
       "      <td>4,590.20</td>\n",
       "      <td>1.097</td>\n",
       "      <td>0.972087</td>\n",
       "    </tr>\n",
       "    <tr>\n",
       "      <th>1</th>\n",
       "      <td>1987</td>\n",
       "      <td>19.20</td>\n",
       "      <td>18.14</td>\n",
       "      <td>4.20</td>\n",
       "      <td>3.5</td>\n",
       "      <td>4,870.20</td>\n",
       "      <td>1.136</td>\n",
       "      <td>1.148627</td>\n",
       "    </tr>\n",
       "    <tr>\n",
       "      <th>2</th>\n",
       "      <td>1988</td>\n",
       "      <td>15.97</td>\n",
       "      <td>14.60</td>\n",
       "      <td>-3.54</td>\n",
       "      <td>4.2</td>\n",
       "      <td>5,252.60</td>\n",
       "      <td>1.183</td>\n",
       "      <td>1.169898</td>\n",
       "    </tr>\n",
       "    <tr>\n",
       "      <th>3</th>\n",
       "      <td>1989</td>\n",
       "      <td>19.64</td>\n",
       "      <td>18.07</td>\n",
       "      <td>3.47</td>\n",
       "      <td>3.7</td>\n",
       "      <td>5,657.70</td>\n",
       "      <td>1.239</td>\n",
       "      <td>1.091950</td>\n",
       "    </tr>\n",
       "    <tr>\n",
       "      <th>4</th>\n",
       "      <td>1990</td>\n",
       "      <td>24.53</td>\n",
       "      <td>21.73</td>\n",
       "      <td>3.66</td>\n",
       "      <td>1.9</td>\n",
       "      <td>5,979.60</td>\n",
       "      <td>1.307</td>\n",
       "      <td>1.271003</td>\n",
       "    </tr>\n",
       "  </tbody>\n",
       "</table>\n",
       "</div>"
      ],
      "text/plain": [
       "   Year  Spot Price  Nominal   Nominal Change  GDP Growth       GDP    CPI  \\\n",
       "0  1986       15.05     13.93          -13.06         3.5  4,590.20  1.097   \n",
       "1  1987       19.20     18.14            4.20         3.5  4,870.20  1.136   \n",
       "2  1988       15.97     14.60           -3.54         4.2  5,252.60  1.183   \n",
       "3  1989       19.64     18.07            3.47         3.7  5,657.70  1.239   \n",
       "4  1990       24.53     21.73            3.66         1.9  5,979.60  1.307   \n",
       "\n",
       "   EUR USD Exchange Rate  \n",
       "0               0.972087  \n",
       "1               1.148627  \n",
       "2               1.169898  \n",
       "3               1.091950  \n",
       "4               1.271003  "
      ]
     },
     "execution_count": 44,
     "metadata": {},
     "output_type": "execute_result"
    }
   ],
   "source": [
    "# Import Pandas library\n",
    "import pandas as pd\n",
    "\n",
    "# Lets load a pandas dataframe and analyze aggregate statistics\n",
    "# Loading CrudeOilData.csv\n",
    "df_crude_oil = pd.read_csv(\"../Data/CrudeOilData.csv\")\n",
    "\n",
    "df_crude_oil.head()"
   ]
  },
  {
   "cell_type": "code",
   "execution_count": 45,
   "metadata": {},
   "outputs": [
    {
     "name": "stdout",
     "output_type": "stream",
     "text": [
      "Statistics on Crude Oil Nominal Prices\n",
      "\n",
      " Mean : $41.43\n",
      "\n",
      " Standard Deviation : $29.06\n",
      "\n",
      " Variance : $844.54\n",
      "\n",
      " Minimum Price : $12.07 and the year when price was minimum was 1998\n",
      "\n",
      " Maximum Price : $102.58 and the year when price was maximum was 2011\n",
      "\n",
      " Percentile Statistics:\n",
      "\n",
      "   25th Percentile : $18.14\n",
      "\n",
      "   Median : $27.72\n",
      "\n",
      "   75th Percentile : $59.05\n"
     ]
    }
   ],
   "source": [
    "# Creating arrays for nominal and spot price\n",
    "nominal = np.array(df_crude_oil['Nominal '])\n",
    "spot_price = np.array(df_crude_oil['Spot Price'])\n",
    "year_crudeoil = np.array(df_crude_oil['Year'])\n",
    "\n",
    "print(\"Statistics on Crude Oil Nominal Prices\")\n",
    "print(f'\\n Mean : ${np.mean(nominal).round(2)}')\n",
    "print(f'\\n Standard Deviation : ${np.std(nominal).round(2)}')\n",
    "print(f'\\n Variance : ${np.var(nominal).round(2)}')\n",
    "print(f'\\n Minimum Price : ${np.min(nominal)} and the year when price was minimum was {year_crudeoil[np.argmin(nominal)]}')\n",
    "print(f'\\n Maximum Price : ${np.max(nominal)} and the year when price was maximum was {year_crudeoil[np.argmax(nominal)]}')\n",
    "\n",
    "print(\"\\n Percentile Statistics:\")\n",
    "print(f'\\n   25th Percentile : ${np.percentile(nominal,25).round(2)}')\n",
    "print(f'\\n   Median : ${np.median(nominal).round(2)}')\n",
    "print(f'\\n   75th Percentile : ${np.percentile(nominal,75).round(2)}')\n"
   ]
  },
  {
   "cell_type": "code",
   "execution_count": 46,
   "metadata": {},
   "outputs": [
    {
     "data": {
      "image/png": "[encoded data removed]",
      "text/plain": [
       "<Figure size 432x288 with 1 Axes>"
      ]
     },
     "metadata": {
      "needs_background": "light"
     },
     "output_type": "display_data"
    }
   ],
   "source": [
    "# Visual representation of the Price movement of Crude Oil\n",
    "# Import matplotlib library\n",
    "import matplotlib.pyplot as plt\n",
    "\n",
    "plt.bar(df_crude_oil['Year'],spot_price)\n",
    "plt.title(\"Price Movement of Crude Oil from 1986 to 2018\")\n",
    "plt.xlabel(\"Year\")\n",
    "plt.ylabel(\"Price (in dollars)\")\n",
    "plt.show()"
   ]
  },
  {
   "cell_type": "markdown",
   "metadata": {},
   "source": [
    "> #### EXAMPLE 2: Bank Failures - 2001 through 2019\n",
    "\n",
    "    This dataset includes banks which have failed since October 1, 2000.\n",
    "    This includes information on the acquiring bank (if applicable).\n",
    "    \n",
    "    Column Descriptions :\n",
    "    1. BankName : Name of the Bank\n",
    "    2. City     : City where the Bank headquarters was located\n",
    "    3. ST       : State where the Bank headquarters was located\n",
    "    4. CERT     : FDIC Certificate Number. A unique number assigned by the FDIC used to identify institutions\n",
    "                    and for the issuance of insurance certificates.\n",
    "    5. AcquiringInstitution : Successor Institution or the institution that acquired the bank.\n",
    "    6. ClosingDate : Bank Inactive as of this date\n",
    "    7. UpdatedDate : Last Updated Date\n",
    "    \n",
    "    Reference : https://www.fdic.gov/bank/individual/failed/banklist.html\n",
    "    "
   ]
  },
  {
   "cell_type": "code",
   "execution_count": 47,
   "metadata": {},
   "outputs": [
    {
     "data": {
      "text/html": [
       "<div>\n",
       "<style scoped>\n",
       "    .dataframe tbody tr th:only-of-type {\n",
       "        vertical-align: middle;\n",
       "    }\n",
       "\n",
       "    .dataframe tbody tr th {\n",
       "        vertical-align: top;\n",
       "    }\n",
       "\n",
       "    .dataframe thead th {\n",
       "        text-align: right;\n",
       "    }\n",
       "</style>\n",
       "<table border=\"1\" class=\"dataframe\">\n",
       "  <thead>\n",
       "    <tr style=\"text-align: right;\">\n",
       "      <th></th>\n",
       "      <th>BankName</th>\n",
       "      <th>City</th>\n",
       "      <th>ST</th>\n",
       "      <th>CERT</th>\n",
       "      <th>AcquiringInstitution</th>\n",
       "      <th>ClosingDate</th>\n",
       "      <th>UpdatedDate</th>\n",
       "    </tr>\n",
       "  </thead>\n",
       "  <tbody>\n",
       "    <tr>\n",
       "      <th>0</th>\n",
       "      <td>1st American State Bank of Minnesota</td>\n",
       "      <td>Hancock</td>\n",
       "      <td>MN</td>\n",
       "      <td>15448</td>\n",
       "      <td>Community Development Bank, FSB</td>\n",
       "      <td>2010-02-05</td>\n",
       "      <td>1-Nov-13</td>\n",
       "    </tr>\n",
       "    <tr>\n",
       "      <th>1</th>\n",
       "      <td>1st Centennial Bank</td>\n",
       "      <td>Redlands</td>\n",
       "      <td>CA</td>\n",
       "      <td>33025</td>\n",
       "      <td>First California Bank</td>\n",
       "      <td>2009-01-23</td>\n",
       "      <td>1-Feb-19</td>\n",
       "    </tr>\n",
       "    <tr>\n",
       "      <th>2</th>\n",
       "      <td>1st Commerce Bank</td>\n",
       "      <td>North Las Vegas</td>\n",
       "      <td>NV</td>\n",
       "      <td>58358</td>\n",
       "      <td>Plaza Bank</td>\n",
       "      <td>2013-06-06</td>\n",
       "      <td>8-Aug-18</td>\n",
       "    </tr>\n",
       "    <tr>\n",
       "      <th>3</th>\n",
       "      <td>1st Pacific Bank of California</td>\n",
       "      <td>San Diego</td>\n",
       "      <td>CA</td>\n",
       "      <td>35517</td>\n",
       "      <td>City National Bank</td>\n",
       "      <td>2010-05-07</td>\n",
       "      <td>31-Jan-19</td>\n",
       "    </tr>\n",
       "    <tr>\n",
       "      <th>4</th>\n",
       "      <td>1st Regents Bank</td>\n",
       "      <td>Andover</td>\n",
       "      <td>MN</td>\n",
       "      <td>57157</td>\n",
       "      <td>First Minnesota Bank</td>\n",
       "      <td>2013-01-18</td>\n",
       "      <td>12-Jul-16</td>\n",
       "    </tr>\n",
       "  </tbody>\n",
       "</table>\n",
       "</div>"
      ],
      "text/plain": [
       "                               BankName             City  ST   CERT  \\\n",
       "0  1st American State Bank of Minnesota          Hancock  MN  15448   \n",
       "1                   1st Centennial Bank         Redlands  CA  33025   \n",
       "2                     1st Commerce Bank  North Las Vegas  NV  58358   \n",
       "3        1st Pacific Bank of California        San Diego  CA  35517   \n",
       "4                      1st Regents Bank          Andover  MN  57157   \n",
       "\n",
       "              AcquiringInstitution ClosingDate UpdatedDate  \n",
       "0  Community Development Bank, FSB  2010-02-05    1-Nov-13  \n",
       "1            First California Bank  2009-01-23    1-Feb-19  \n",
       "2                       Plaza Bank  2013-06-06    8-Aug-18  \n",
       "3               City National Bank  2010-05-07   31-Jan-19  \n",
       "4             First Minnesota Bank  2013-01-18   12-Jul-16  "
      ]
     },
     "execution_count": 47,
     "metadata": {},
     "output_type": "execute_result"
    }
   ],
   "source": [
    "# Lets load a pandas dataframe and analyze aggregate statistics\n",
    "# Loading banklist.csv\n",
    "df_banklist = pd.read_csv(\"../Data/banklist.csv\",encoding=\"latin\")\n",
    "df_banklist.ClosingDate = pd.to_datetime(df_banklist.ClosingDate,format=\"%d-%b-%y\")\n",
    "\n",
    "# Consider a subset of the dataframe with Bank Name, City, State and Closing Date \n",
    "df_banklist.head()"
   ]
  },
  {
   "cell_type": "markdown",
   "metadata": {},
   "source": [
    "> **Masking Operations and Aggregates**\n",
    " \n",
    "     By combining masking operations with aggregates we can evaluate lot of compound operations \n",
    "     such as total number of any occurence, multiple conditional statements and so on.\n",
    "     \n",
    "     Lets consider example 2, the dataset of banks that closed in United States during 2000 to 2019.\n",
    "     For instance, we can evaluate the number of banks that closed in any particular city or state using \n",
    "     masking and aggregates.\n",
    "     "
   ]
  },
  {
   "cell_type": "code",
   "execution_count": 48,
   "metadata": {},
   "outputs": [
    {
     "name": "stdout",
     "output_type": "stream",
     "text": [
      "Number of banks closed in Chicago,Illinois : 20\n",
      "Number of banks closed in the state of Illinois : 69\n"
     ]
    }
   ],
   "source": [
    "# Creating arrays for state and city column\n",
    "state = np.array(df_banklist['ST'])\n",
    "city = np.array(df_banklist['City'])\n",
    "year = np.array(pd.DatetimeIndex(df_banklist['ClosingDate']).year)\n",
    "bankname = np.array(df_banklist['BankName'])\n",
    "month = np.array(pd.DatetimeIndex(df_banklist['ClosingDate']).month)\n",
    "\n",
    "# To find the number of banks closed in the state of California and Illinois\n",
    "print(f'Number of banks closed in Chicago,Illinois : {np.sum((state==\"IL\") & (city==\"Chicago\"))}')\n",
    "\n",
    "print(f'Number of banks closed in the state of Illinois : {np.sum((state==\"IL\"))}')"
   ]
  },
  {
   "cell_type": "markdown",
   "metadata": {},
   "source": [
    "    Thus,we can infer from the above result that around 30% of banks that closed in the state of Illinois were \n",
    "        in Chicago"
   ]
  },
  {
   "cell_type": "markdown",
   "metadata": {},
   "source": [
    "> **Boolean Masks**\n",
    "\n",
    "      By combining Boolean operations, masking operations, and aggregates, we can accomplish \n",
    "      even more complex tasks.\n",
    "      Lets again consider the example of banks that closed in United States between 2000-2019.\n",
    "      \n",
    "      - Which all Banks closed during The Great Recession(i.e. between December 2007 and June 2009)?\n",
    "      - How many banks closed during the period following The Great Recession?\n",
    "      To evaluate queries like the ones listed above, we can combine Boolean operations with masking operations and \n",
    "      use aggregates.\n",
    "      \n",
    "      We will consider the Recession Timeline as per the National Bureau of Economic Research.\n",
    "      Recession : between December 2007 and June 2009\n",
    "      Post Recession : between July 2009 and December 2012\n"
   ]
  },
  {
   "cell_type": "code",
   "execution_count": 49,
   "metadata": {},
   "outputs": [
    {
     "name": "stdout",
     "output_type": "stream",
     "text": [
      "Number of banks that closed post recession : 395\n"
     ]
    }
   ],
   "source": [
    "# Constructing a mask for recession time and the years that followed recession\n",
    "# Recession Timeline as per the National Bureau of Economic Research  \n",
    "recession = (((month==12)& (year==2007))| (year==2008)| ((year==2009) & (month<=6)))\n",
    "postrecession = (((month>6)& (year==2009))| (year>=2010) & (year<=2012))\n",
    "\n",
    "# To compute the number of banks that closed during the period following The Great Recession \n",
    "print(f'Number of banks that closed post recession : {np.sum(np.bincount(year[postrecession]))}')\n"
   ]
  },
  {
   "cell_type": "markdown",
   "metadata": {},
   "source": [
    "    This implies that, out of 555 banks that closed during 2000-2019, approximately 70% of the banks closed during the period following The Great Recession "
   ]
  },
  {
   "cell_type": "markdown",
   "metadata": {},
   "source": [
    "### <center>Set Operations</center>\n",
    "\n",
    "    One of the other useful methods is the np.unique that returns the sorted unique values in an array.\n",
    "    To demonstrate the set operations, let us consider the above example of a list of banks that closed from \n",
    "    2000-2019.\n",
    "    \n",
    "    We can use np.unique to find the number of banks that closed each year by using an optional argument \n",
    "    \"return_counts\" and setting it as True.\n",
    "    \n",
    "    The other set operations are:\n",
    "    \n",
    "    np.in1d()\n",
    "    np.intersect1d()\n",
    "    np.union1d()\n",
    "    np.setdiff1d()\n",
    "    np.setxor1d()\n",
    "    \n",
    "    The examples for each of the 6 set operations can be noted below."
   ]
  },
  {
   "cell_type": "code",
   "execution_count": 50,
   "metadata": {},
   "outputs": [
    {
     "data": {
      "text/plain": [
       "array(['ND', 'SD', 'NE', 'KS', 'MN', 'IA', 'MO', 'IL', 'WI', 'IN', 'OH',\n",
       "       'MI'], dtype='<U2')"
      ]
     },
     "execution_count": 50,
     "metadata": {},
     "output_type": "execute_result"
    }
   ],
   "source": [
    "# Consider an array of midwestern states \n",
    "midwest = np.array(['ND','SD','NE','KS','MN','IA','MO','IL','WI','IN','OH','MI'])\n",
    "midwest"
   ]
  },
  {
   "cell_type": "code",
   "execution_count": 51,
   "metadata": {},
   "outputs": [
    {
     "name": "stdout",
     "output_type": "stream",
     "text": [
      "Unique Items :\n",
      "[2000 2001 2002 2003 2004 2007 2008 2009 2010 2011 2012 2013 2014 2015\n",
      " 2016 2017 2019]\n",
      "\n",
      "Banks closed in the corresponding year :\n",
      "[  2   4  11   3   4   3  25 140 157  92  51  24  18   8   5   8   1]\n",
      "\n",
      "The year when most banks closed :\n",
      "2010\n"
     ]
    }
   ],
   "source": [
    "# Returns an array of unique items along with the counts \n",
    "unq ,cnt = np.array(np.unique(year,return_counts=True))\n",
    "print(f\"Unique Items :\\n{unq}\")\n",
    "print(f\"\\nBanks closed in the corresponding year :\\n{cnt}\")\n",
    "\n",
    "# We can compute which year most banks closed\n",
    "print(f\"\\nThe year when most banks closed :\\n{unq[np.argmax(cnt)]}\")"
   ]
  },
  {
   "cell_type": "code",
   "execution_count": 52,
   "metadata": {},
   "outputs": [
    {
     "name": "stdout",
     "output_type": "stream",
     "text": [
      "State with highest bank failures in midwest :IL\n",
      "Total number of bank failures in IL is 69\n"
     ]
    }
   ],
   "source": [
    "# in1d (x,y) computes boolean array indicating if the elements in x is contained in y\n",
    "# Computes the state in midwest with highest bank failures\n",
    "unq_midwest, cnt_midwest = np.unique(state[np.in1d(state,midwest)],return_counts=True)\n",
    "print(f\"State with highest bank failures in midwest :{unq_midwest[np.argmax(cnt_midwest)]}\")\n",
    "print(f\"Total number of bank failures in {unq_midwest[np.argmax(cnt_midwest)]} is {np.max(cnt_midwest)}\")\n"
   ]
  },
  {
   "cell_type": "code",
   "execution_count": 53,
   "metadata": {},
   "outputs": [
    {
     "name": "stdout",
     "output_type": "stream",
     "text": [
      "States that were impacted during recession in the midwest : ['IL' 'KS' 'MI' 'MN' 'MO' 'NE']\n",
      "\n",
      "States that were impacted during and immidiately after recession: \n",
      "['AL' 'AR' 'AZ' 'CA' 'CO' 'FL' 'GA' 'IA' 'ID' 'IL' 'IN' 'KS' 'KY' 'LA'\n",
      " 'MA' 'MD' 'MI' 'MN' 'MO' 'MS' 'NC' 'NE' 'NJ' 'NM' 'NV' 'NY' 'OH' 'OK'\n",
      " 'OR' 'PA' 'PR' 'SC' 'SD' 'TN' 'TX' 'UT' 'VA' 'WA' 'WI' 'WV' 'WY']\n"
     ]
    }
   ],
   "source": [
    "# intersect1d (x,y) computes the common elements in x and y in sorted order\n",
    "# Computes the midwest states that were impacted due to recession\n",
    "print(f'States that were impacted during recession in the midwest : {np.intersect1d(state[recession],midwest)}')\n",
    "\n",
    "# union1d (x,y) computes union of elements in sorted order\n",
    "# Computes the states that were impacted during recession and post recession\n",
    "print(f'\\nStates that were impacted during and immidiately after recession: \\n{np.union1d(state[recession],state[postrecession])}')\n"
   ]
  },
  {
   "cell_type": "code",
   "execution_count": 54,
   "metadata": {},
   "outputs": [
    {
     "name": "stdout",
     "output_type": "stream",
     "text": [
      "Banks in California that closed before December 2007 and after December 2012 : \n",
      "['Frontier Bank, FSB D/B/A El Paseo Bank' 'Southern Pacific Bank']\n",
      "\n",
      "Banks that closed in 2017 other than in Illinois state :\n",
      "['Guaranty Bank, (d/b/a BestBank in Georgia & Michigan)'\n",
      " 'The Farmers and Merchants State Bank of Argonia']\n"
     ]
    }
   ],
   "source": [
    "# setdiff1d (x,y) computes elements in x that are not in y \n",
    "# Computes banks in California that closed in times other than recession and post recession.\n",
    "print(\"Banks in California that closed before December 2007 and after December 2012 : \")\n",
    "print(f\"{np.setdiff1d(bankname[np.in1d(state,['CA'])],np.union1d(bankname[recession],bankname[postrecession]))}\\n\")\n",
    "\n",
    "\n",
    "# setxor1d (x,y) computes the elements in either x or y but not in both\n",
    "# Computes banks that closed in midwest other than those in Illinois state in the year 2017\n",
    "print(\"Banks that closed in 2017 other than in Illinois state :\")\n",
    "print(np.setxor1d(bankname[np.in1d(year,2017) & np.in1d(state,['IL'])],\n",
    "            bankname[np.in1d(year,2017) & np.in1d(state,midwest)]))"
   ]
  },
  {
   "cell_type": "markdown",
   "metadata": {},
   "source": [
    "### <center>Other Topics</center>"
   ]
  },
  {
   "cell_type": "markdown",
   "metadata": {},
   "source": [
    "> #### np.where\n",
    "\n",
    "    Return elements chosen from x or y depending on condition."
   ]
  },
  {
   "cell_type": "code",
   "execution_count": 55,
   "metadata": {},
   "outputs": [
    {
     "data": {
      "text/plain": [
       "array(['Advanta Bank Corp.', 'AmTrade International Bank',\n",
       "       'Arcola Homestead Savings Bank', 'Bank of Alamo',\n",
       "       'Bank of the Eastern Shore', 'Barnes Banking Company',\n",
       "       'Centennial Bank', 'Citizens State Bank',\n",
       "       'Community Bank of Nevada', 'Community Bank of West Georgia',\n",
       "       'Dollar Savings Bank', 'Enterprise Banking Company',\n",
       "       'First Arizona Savings, A FSB', 'First Bank of Beverly Hills',\n",
       "       'FirstCity Bank', 'FirsTier Bank', 'Home Savings of America',\n",
       "       'Ideal Federal Savings Bank', 'Lakeside Community Bank',\n",
       "       'MagnetBank', 'New Century Bank', 'New City Bank',\n",
       "       'New Frontier Bank', 'NextBank, NA', 'NOVA Bank',\n",
       "       'Omni National Bank', 'Platinum Community Bank',\n",
       "       'RockBridge Commercial Bank', 'Silverton Bank, NA',\n",
       "       \"The Community's Bank\", 'Waterfield Bank'], dtype=object)"
      ]
     },
     "execution_count": 55,
     "metadata": {},
     "output_type": "execute_result"
    }
   ],
   "source": [
    "# Lets consider the dataset of failed banks to demonstrate np.where()\n",
    "# Lists the failed banks that are not acquired till date\n",
    "bankname[np.where(df_banklist['AcquiringInstitution']=='No Acquirer')]"
   ]
  },
  {
   "cell_type": "markdown",
   "metadata": {},
   "source": [
    "> #### np.count_nonzero\n",
    "\n",
    "    np.count_nonzero is useful,to count number of True entries or non-zero elements in a NumPy array"
   ]
  },
  {
   "cell_type": "code",
   "execution_count": 56,
   "metadata": {},
   "outputs": [
    {
     "data": {
      "text/plain": [
       "70"
      ]
     },
     "execution_count": 56,
     "metadata": {},
     "output_type": "execute_result"
    }
   ],
   "source": [
    "# To compute, the number of banks that closed during The Great Recession (i.e. between 2008 and 2012)\n",
    "# np.count_nonzero counts the number of True entries in this case\n",
    "np.count_nonzero(bankname[(((month==12)& (year==2007))| (year==2008)| ((year==2009) & (month<=6)))])"
   ]
  }
 ],
 "metadata": {
  "kernelspec": {
   "display_name": "Python 3",
   "language": "python",
   "name": "python3"
  },
  "language_info": {
   "codemirror_mode": {
    "name": "ipython",
    "version": 3
   },
   "file_extension": ".py",
   "mimetype": "text/x-python",
   "name": "python",
   "nbconvert_exporter": "python",
   "pygments_lexer": "ipython3",
   "version": "3.7.3"
  }
 },
 "nbformat": 4,
 "nbformat_minor": 2
}
