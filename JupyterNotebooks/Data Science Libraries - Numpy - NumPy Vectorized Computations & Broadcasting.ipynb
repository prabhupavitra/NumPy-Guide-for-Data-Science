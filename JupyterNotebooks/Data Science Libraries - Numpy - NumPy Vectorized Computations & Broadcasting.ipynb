{
 "cells": [
  {
   "cell_type": "markdown",
   "metadata": {},
   "source": [
    "### <center>Numpy Vectorized Computations</center>"
   ]
  },
  {
   "cell_type": "markdown",
   "metadata": {},
   "source": [
    "> **Numpy Vectorized Computations**\n",
    "        \n",
    "    This notebook introduces concepts of vectorization, implemented through NumPy’s universal functions that \n",
    "    enables NumPy to make repeated calculations on array elements much more efficient.UFuncs perform Element-Wise \n",
    "    operations on  data in ndarrays.Its important to note that UFuncs can return multiple arrays (E.g. divmod), \n",
    "    although less frequently used.\n",
    "        \n",
    "    Additionally, it also accepts an optional \"out\" argument that allows them to operate in-place on arrays.\n",
    "    Vectorized operations in NumPy can be broadly classified as: \n",
    "    \n",
    "        Unary ufuncs\n",
    "        Binary ufuncs   \n",
    "    \n",
    "    The topics covered in this notebook are as follows:\n",
    "    \n",
    "    1. Unary UFuncs  \n",
    "    2. Unary UFuncs for NaN\n",
    "    3. Binary UFuncs\n",
    "        - Mathematical Operators\n",
    "        - Comparison Operators\n",
    "        - Boolean Operators\n",
    "            > np.non_zero : Counting Entries\n",
    "        - ufunc methods\n",
    "    4. Broadcasting"
   ]
  },
  {
   "cell_type": "code",
   "execution_count": 47,
   "metadata": {},
   "outputs": [],
   "source": [
    "# Importing numpy library\n",
    "import numpy as np"
   ]
  },
  {
   "cell_type": "code",
   "execution_count": 48,
   "metadata": {},
   "outputs": [
    {
     "name": "stdout",
     "output_type": "stream",
     "text": [
      "Floating point ndarray :\n",
      "[[[-1.23911629 -0.33523566  0.52726431]\n",
      "  [-0.71893874  1.19092479  1.42764725]]\n",
      "\n",
      " [[ 0.49832967  1.24040982  0.47268116]\n",
      "  [-0.57040815 -1.01906352 -0.47143276]]]\n",
      "\n",
      "Integer ndarray :\n",
      "[[[ 3 -2  5]\n",
      "  [ 7  8  9]]\n",
      "\n",
      " [[11  5 -7]\n",
      "  [12 -5  9]]]\n"
     ]
    }
   ],
   "source": [
    "# Creating a floating point ndarray to demonstrate UFuncs\n",
    "arr_ufuncs_float = np.random.randn(2,2,3)\n",
    "print(\"Floating point ndarray :\\n{}\".format(arr_ufuncs_float))\n",
    "\n",
    "# Creating an integer ndarray to demonstrate UFuncs\n",
    "arr_ufuncs_int = np.random.randint(-12,14,size=(2,2,3))\n",
    "print(\"\\nInteger ndarray :\\n{}\".format(arr_ufuncs_int))"
   ]
  },
  {
   "cell_type": "markdown",
   "metadata": {},
   "source": [
    "### <center>Unary UFuncs</center>\n",
    "\n",
    "    We shall discuss the following Unary ufuncs in this section:\n",
    "    \n",
    "     - abs  \n",
    "     - fabs\n",
    "     - sqrt\n",
    "     - square\n",
    "     - exp\n",
    "     - log,log10,log2,logp\n",
    "     - sign\n",
    "     - ceil\n",
    "     - floor\n",
    "     - rint\n",
    "     - modf\n",
    "     - isnan\n",
    "     - isfinite,isinf\n",
    "     - cos,cosh,sin,sinh,tan,tanh\n",
    "     - arccos,arccosh,arcsin,arcsinh,arctan,arctanh\n",
    "     - logical_not"
   ]
  },
  {
   "cell_type": "code",
   "execution_count": 49,
   "metadata": {},
   "outputs": [
    {
     "data": {
      "text/plain": [
       "array([[[1.23911629, 0.33523566, 0.52726431],\n",
       "        [0.71893874, 1.19092479, 1.42764725]],\n",
       "\n",
       "       [[0.49832967, 1.24040982, 0.47268116],\n",
       "        [0.57040815, 1.01906352, 0.47143276]]])"
      ]
     },
     "execution_count": 49,
     "metadata": {},
     "output_type": "execute_result"
    }
   ],
   "source": [
    "# Computes the absolute value of a floating point array\n",
    "np.fabs(arr_ufuncs_float)"
   ]
  },
  {
   "cell_type": "code",
   "execution_count": 50,
   "metadata": {},
   "outputs": [
    {
     "data": {
      "text/plain": [
       "array([[[ 3,  2,  5],\n",
       "        [ 7,  8,  9]],\n",
       "\n",
       "       [[11,  5,  7],\n",
       "        [12,  5,  9]]])"
      ]
     },
     "execution_count": 50,
     "metadata": {},
     "output_type": "execute_result"
    }
   ],
   "source": [
    "# Computes the absolute value of an integer array\n",
    "np.abs(arr_ufuncs_int)"
   ]
  },
  {
   "cell_type": "code",
   "execution_count": 51,
   "metadata": {},
   "outputs": [
    {
     "data": {
      "text/plain": [
       "array([[[1.73205081, 1.41421356, 2.23606798],\n",
       "        [2.64575131, 2.82842712, 3.        ]],\n",
       "\n",
       "       [[3.31662479, 2.23606798, 2.64575131],\n",
       "        [3.46410162, 2.23606798, 3.        ]]])"
      ]
     },
     "execution_count": 51,
     "metadata": {},
     "output_type": "execute_result"
    }
   ],
   "source": [
    "# Computes the Square root of the elements\n",
    "np.sqrt(np.abs((arr_ufuncs_int)))"
   ]
  },
  {
   "cell_type": "code",
   "execution_count": 52,
   "metadata": {},
   "outputs": [
    {
     "data": {
      "text/plain": [
       "array([[[1.53540918, 0.11238295, 0.27800765],\n",
       "        [0.51687291, 1.41830185, 2.03817667]],\n",
       "\n",
       "       [[0.24833246, 1.53861652, 0.22342748],\n",
       "        [0.32536546, 1.03849045, 0.22224885]]])"
      ]
     },
     "execution_count": 52,
     "metadata": {},
     "output_type": "execute_result"
    }
   ],
   "source": [
    "# Computes the square\n",
    "np.square(arr_ufuncs_float)"
   ]
  },
  {
   "cell_type": "code",
   "execution_count": 53,
   "metadata": {},
   "outputs": [
    {
     "data": {
      "text/plain": [
       "array([[[0.28964006, 0.71516953, 1.6942909 ],\n",
       "        [0.4872691 , 3.29012247, 4.16887931]],\n",
       "\n",
       "       [[1.64596967, 3.45702993, 1.60428978],\n",
       "        [0.56529466, 0.36093279, 0.62410743]]])"
      ]
     },
     "execution_count": 53,
     "metadata": {},
     "output_type": "execute_result"
    }
   ],
   "source": [
    "# Computes the exponent e^x of the array elements\n",
    "np.exp(arr_ufuncs_float)"
   ]
  },
  {
   "cell_type": "code",
   "execution_count": 54,
   "metadata": {},
   "outputs": [
    {
     "data": {
      "text/plain": [
       "array([[[ 0.21439846, -1.09292153, -0.64005333],\n",
       "        [-0.32997913,  0.17473014,  0.35602781]],\n",
       "\n",
       "       [[-0.69649342,  0.21544182, -0.74933421],\n",
       "        [-0.56140312,  0.01888409, -0.7519788 ]]])"
      ]
     },
     "execution_count": 54,
     "metadata": {},
     "output_type": "execute_result"
    }
   ],
   "source": [
    "# Computes log to the base e of array elements\n",
    "np.log(np.abs(arr_ufuncs_float))\n",
    "\n",
    "# Similarly log10, log2, logp computes the logarithm to the base 10, base 2 and log(1+x) respectively"
   ]
  },
  {
   "cell_type": "code",
   "execution_count": 55,
   "metadata": {},
   "outputs": [
    {
     "data": {
      "text/plain": [
       "array([[[ 1, -1,  1],\n",
       "        [ 1,  1,  1]],\n",
       "\n",
       "       [[ 1,  1, -1],\n",
       "        [ 1, -1,  1]]])"
      ]
     },
     "execution_count": 55,
     "metadata": {},
     "output_type": "execute_result"
    }
   ],
   "source": [
    "# Computes the sign of array elements; 1 for positive, 0 for zero and -1 for Negative\n",
    "np.sign(arr_ufuncs_int)"
   ]
  },
  {
   "cell_type": "code",
   "execution_count": 56,
   "metadata": {},
   "outputs": [
    {
     "data": {
      "text/plain": [
       "array([[[-1., -0.,  1.],\n",
       "        [-0.,  2.,  2.]],\n",
       "\n",
       "       [[ 1.,  2.,  1.],\n",
       "        [-0., -1., -0.]]])"
      ]
     },
     "execution_count": 56,
     "metadata": {},
     "output_type": "execute_result"
    }
   ],
   "source": [
    "# Computes the ceiling for each element; Smallest integer greater than or equal to that number\n",
    "np.ceil(arr_ufuncs_float)"
   ]
  },
  {
   "cell_type": "code",
   "execution_count": 57,
   "metadata": {},
   "outputs": [
    {
     "data": {
      "text/plain": [
       "array([[[-2., -1.,  0.],\n",
       "        [-1.,  1.,  1.]],\n",
       "\n",
       "       [[ 0.,  1.,  0.],\n",
       "        [-1., -2., -1.]]])"
      ]
     },
     "execution_count": 57,
     "metadata": {},
     "output_type": "execute_result"
    }
   ],
   "source": [
    "# Computes the floor for each element; Largest integer greater than or equal to that number\n",
    "np.floor(arr_ufuncs_float)"
   ]
  },
  {
   "cell_type": "code",
   "execution_count": 58,
   "metadata": {},
   "outputs": [
    {
     "data": {
      "text/plain": [
       "array([[[-1., -0.,  1.],\n",
       "        [-1.,  1.,  1.]],\n",
       "\n",
       "       [[ 0.,  1.,  0.],\n",
       "        [-1., -1., -0.]]])"
      ]
     },
     "execution_count": 58,
     "metadata": {},
     "output_type": "execute_result"
    }
   ],
   "source": [
    "# Rounds the element to nearest integer ; preserves the dtype of the initial array\n",
    "np.round(arr_ufuncs_float)"
   ]
  },
  {
   "cell_type": "code",
   "execution_count": 59,
   "metadata": {},
   "outputs": [
    {
     "name": "stdout",
     "output_type": "stream",
     "text": [
      "Integral Part = \n",
      " [[[-1. -0.  0.]\n",
      "  [-0.  1.  1.]]\n",
      "\n",
      " [[ 0.  1.  0.]\n",
      "  [-0. -1. -0.]]]\n",
      "\n",
      "Fraction Part = \n",
      " [[[-0.23911629 -0.33523566  0.52726431]\n",
      "  [-0.71893874  0.19092479  0.42764725]]\n",
      "\n",
      " [[ 0.49832967  0.24040982  0.47268116]\n",
      "  [-0.57040815 -0.01906352 -0.47143276]]]\n"
     ]
    }
   ],
   "source": [
    "# Returns fraction and integral part as a separate array\n",
    "fraction, integral = np.modf(arr_ufuncs_float)\n",
    "\n",
    "print (f'Integral Part = \\n {integral}')\n",
    "\n",
    "print (f'\\nFraction Part = \\n {fraction}')"
   ]
  },
  {
   "cell_type": "code",
   "execution_count": 60,
   "metadata": {},
   "outputs": [
    {
     "data": {
      "text/plain": [
       "array([[[-0.89178544, -0.32346167,  0.4852204 ],\n",
       "        [-0.62332377,  0.87232204,  0.95976631]],\n",
       "\n",
       "       [[ 0.46231046,  0.8922953 ,  0.44155467],\n",
       "        [-0.51837654, -0.79483965, -0.44053377]]])"
      ]
     },
     "execution_count": 60,
     "metadata": {},
     "output_type": "execute_result"
    }
   ],
   "source": [
    "# Inverse trigonometric functions: arccos,arccosh,arcsin,arcsinh,arctan,arctanh\n",
    "np.arctan(arr_ufuncs_float)"
   ]
  },
  {
   "cell_type": "code",
   "execution_count": 61,
   "metadata": {},
   "outputs": [
    {
     "data": {
      "text/plain": [
       "array([[[-0.9899925 , -0.41614684,  0.28366219],\n",
       "        [ 0.75390225, -0.14550003, -0.91113026]],\n",
       "\n",
       "       [[ 0.0044257 ,  0.28366219,  0.75390225],\n",
       "        [ 0.84385396,  0.28366219, -0.91113026]]])"
      ]
     },
     "execution_count": 61,
     "metadata": {},
     "output_type": "execute_result"
    }
   ],
   "source": [
    "# Regular and hyperbolic trigonometric functions: cos,cosh,sin,sinh,tan,tanh\n",
    "np.cos(arr_ufuncs_int)"
   ]
  },
  {
   "cell_type": "code",
   "execution_count": 62,
   "metadata": {},
   "outputs": [
    {
     "data": {
      "text/plain": [
       "array([[[False, False, False],\n",
       "        [False, False, False]],\n",
       "\n",
       "       [[False, False, False],\n",
       "        [False, False, False]]])"
      ]
     },
     "execution_count": 62,
     "metadata": {},
     "output_type": "execute_result"
    }
   ],
   "source": [
    "# Compute truth value of not of x; \n",
    "np.logical_not(arr_ufuncs_int)"
   ]
  },
  {
   "cell_type": "markdown",
   "metadata": {},
   "source": [
    "### <center>Unary UFuncs for Not a Number</center>\n",
    "\n",
    "    In addition to dtype objects, NumPy introduces special numeric values: nan and inf. \n",
    "    These can arise in mathematical computations. \n",
    "    \n",
    "        NOT A NUMBER(nan) : It indicates a value that should be numeric is, in fact, not defined mathematically. \n",
    "    For example, 0/0 yields nan. \n",
    "    Sometimes, nan is also used to signify missing information; for example, pandas uses this.\n",
    "    \n",
    "    isnan, isfinite, isinf\n",
    "\n",
    "    Please Note : \n",
    "    1. Nothing is ever equal to nan; it makes no sense for something undefined to be equal to something else.\n",
    "        Therefore, we need to use the NumPy function isnan to identify nan\n",
    "    2. NAN,NaN and nan : All of them mean the same, Not a Number\n",
    "    3. While the == sign does not work for nan, it does work for inf"
   ]
  },
  {
   "cell_type": "code",
   "execution_count": 63,
   "metadata": {},
   "outputs": [
    {
     "data": {
      "text/plain": [
       "array([[inf, nan, nan],\n",
       "       [nan, 33.,  0.],\n",
       "       [ 0., nan, nan]])"
      ]
     },
     "execution_count": 63,
     "metadata": {},
     "output_type": "execute_result"
    }
   ],
   "source": [
    "# Creating An array consisting of nan and inf values\n",
    "arr_ufuncs_naninf = np.array([[np.inf,np.nan,np.NaN],\n",
    "                              [np.NAN,33,0],\n",
    "                              [5/np.inf,np.inf*np.nan,np.inf/np.inf]])\n",
    "arr_ufuncs_naninf"
   ]
  },
  {
   "cell_type": "code",
   "execution_count": 64,
   "metadata": {},
   "outputs": [
    {
     "data": {
      "text/plain": [
       "array([[False,  True,  True],\n",
       "       [ True, False, False],\n",
       "       [False,  True,  True]])"
      ]
     },
     "execution_count": 64,
     "metadata": {},
     "output_type": "execute_result"
    }
   ],
   "source": [
    "# Return boolean array indicating whether each value is NaN\n",
    "np.isnan(arr_ufuncs_naninf)"
   ]
  },
  {
   "cell_type": "code",
   "execution_count": 65,
   "metadata": {},
   "outputs": [
    {
     "data": {
      "text/plain": [
       "array([[False, False, False],\n",
       "       [False,  True,  True],\n",
       "       [ True, False, False]])"
      ]
     },
     "execution_count": 65,
     "metadata": {},
     "output_type": "execute_result"
    }
   ],
   "source": [
    "# Return boolean array indicating whether each element is finite \n",
    "np.isfinite(arr_ufuncs_naninf)"
   ]
  },
  {
   "cell_type": "code",
   "execution_count": 66,
   "metadata": {},
   "outputs": [
    {
     "data": {
      "text/plain": [
       "array([[ True, False, False],\n",
       "       [False, False, False],\n",
       "       [False, False, False]])"
      ]
     },
     "execution_count": 66,
     "metadata": {},
     "output_type": "execute_result"
    }
   ],
   "source": [
    "# Returns boolean array indicating whether each element is infinite\n",
    "np.isinf(arr_ufuncs_naninf)"
   ]
  },
  {
   "cell_type": "code",
   "execution_count": 67,
   "metadata": {},
   "outputs": [
    {
     "name": "stdout",
     "output_type": "stream",
     "text": [
      "nan==nan ? False\n",
      "inf==inf ? True\n"
     ]
    }
   ],
   "source": [
    "print(\"nan==nan ? {}\".format(np.nan==np.nan))\n",
    "print(\"inf==inf ? {}\".format(np.inf==np.inf))"
   ]
  },
  {
   "cell_type": "markdown",
   "metadata": {},
   "source": [
    "### <center>Binary UFuncs</center>"
   ]
  },
  {
   "cell_type": "markdown",
   "metadata": {},
   "source": [
    "> **Binary UFuncs : Mathematical Operators**\n",
    "\n",
    "        We shall discuss the following Binary ufuncs in this section:\n",
    "\n",
    "      - add\n",
    "      - subtract\n",
    "      - multiply\n",
    "      - divide\n",
    "      - floor_divide\n",
    "      - power\n",
    "      - maximum,fmax\n",
    "      - minimum,fmin\n",
    "      - mod\n",
    "      - copysign\n",
    "      - greater, greater_equal, less, less_equal, equal, not_equal\n",
    "      - logical_and, logical_or, logical_xor\n",
    "       "
   ]
  },
  {
   "cell_type": "code",
   "execution_count": 68,
   "metadata": {},
   "outputs": [
    {
     "data": {
      "text/plain": [
       "array([[[  9,  -6,  15],\n",
       "        [ 21,  24,  27]],\n",
       "\n",
       "       [[ 33,  15, -21],\n",
       "        [ 36, -15,  27]]])"
      ]
     },
     "execution_count": 68,
     "metadata": {},
     "output_type": "execute_result"
    }
   ],
   "source": [
    "# Adds corresponding elements in the input arrays\n",
    "np.add(arr_ufuncs_int,arr_ufuncs_int*2)"
   ]
  },
  {
   "cell_type": "code",
   "execution_count": 69,
   "metadata": {},
   "outputs": [
    {
     "data": {
      "text/plain": [
       "array([[[-12,   8, -20],\n",
       "        [-28, -32, -36]],\n",
       "\n",
       "       [[-44, -20,  28],\n",
       "        [-48,  20, -36]]])"
      ]
     },
     "execution_count": 69,
     "metadata": {},
     "output_type": "execute_result"
    }
   ],
   "source": [
    "# Subtracts corresponding elements in the input arrays\n",
    "np.subtract(arr_ufuncs_int,arr_ufuncs_int*5)"
   ]
  },
  {
   "cell_type": "code",
   "execution_count": 70,
   "metadata": {},
   "outputs": [
    {
     "data": {
      "text/plain": [
       "array([[[ 18,   8,  50],\n",
       "        [ 98, 128, 162]],\n",
       "\n",
       "       [[242,  50,  98],\n",
       "        [288,  50, 162]]])"
      ]
     },
     "execution_count": 70,
     "metadata": {},
     "output_type": "execute_result"
    }
   ],
   "source": [
    "# Multiplies corresponding elements in the input arrays \n",
    "np.multiply(arr_ufuncs_int,arr_ufuncs_int*2)"
   ]
  },
  {
   "cell_type": "code",
   "execution_count": 71,
   "metadata": {},
   "outputs": [
    {
     "data": {
      "text/plain": [
       "array([[[ -2.42108027,   5.96595243,   9.48291006],\n",
       "        [ -9.73657371,   6.71746871,   6.30407827]],\n",
       "\n",
       "       [[ 22.07374068,   4.03092585, -14.80913701],\n",
       "        [-21.03756744,   4.9064655 , -19.09073956]]])"
      ]
     },
     "execution_count": 71,
     "metadata": {},
     "output_type": "execute_result"
    }
   ],
   "source": [
    "# Divides corresponding elements in the input arrays\n",
    "np.divide(arr_ufuncs_int,arr_ufuncs_float)"
   ]
  },
  {
   "cell_type": "code",
   "execution_count": 72,
   "metadata": {},
   "outputs": [
    {
     "data": {
      "text/plain": [
       "array([[[ -3.,   5.,   9.],\n",
       "        [-10.,   6.,   6.]],\n",
       "\n",
       "       [[ 22.,   4., -15.],\n",
       "        [-22.,   4., -20.]]])"
      ]
     },
     "execution_count": 72,
     "metadata": {},
     "output_type": "execute_result"
    }
   ],
   "source": [
    "# Floor divide truncates the remainder\n",
    "np.floor_divide(arr_ufuncs_int,arr_ufuncs_float)"
   ]
  },
  {
   "cell_type": "code",
   "execution_count": 73,
   "metadata": {},
   "outputs": [
    {
     "data": {
      "text/plain": [
       "array([[[-1.90255052e+00,  8.89814710e+00,  4.07513371e-02],\n",
       "        [-9.92757526e-02,  4.04645467e+00,  2.46370223e+01]],\n",
       "\n",
       "       [[ 4.70635017e-04,  2.93647275e+00,  1.89680191e+02],\n",
       "        [ 1.18639334e-03, -9.09900131e-01, -1.15021177e-03]]])"
      ]
     },
     "execution_count": 73,
     "metadata": {},
     "output_type": "execute_result"
    }
   ],
   "source": [
    "# Raises first array  to the power of second array\n",
    "np.power(arr_ufuncs_float,arr_ufuncs_int)"
   ]
  },
  {
   "cell_type": "code",
   "execution_count": 74,
   "metadata": {},
   "outputs": [
    {
     "data": {
      "text/plain": [
       "array([[[ 3.        , -0.33523566,  5.        ],\n",
       "        [ 7.        ,  8.        ,  9.        ]],\n",
       "\n",
       "       [[11.        ,  5.        ,  0.47268116],\n",
       "        [12.        , -1.01906352,  9.        ]]])"
      ]
     },
     "execution_count": 74,
     "metadata": {},
     "output_type": "execute_result"
    }
   ],
   "source": [
    "# Maximum of the elements in the array element-wise; np.fmax ignores nan\n",
    "np.maximum(arr_ufuncs_float,arr_ufuncs_int)"
   ]
  },
  {
   "cell_type": "code",
   "execution_count": 75,
   "metadata": {},
   "outputs": [
    {
     "data": {
      "text/plain": [
       "array([[[-1.23911629, -2.        ,  0.52726431],\n",
       "        [-0.71893874,  1.19092479,  1.42764725]],\n",
       "\n",
       "       [[ 0.49832967,  1.24040982, -7.        ],\n",
       "        [-0.57040815, -5.        , -0.47143276]]])"
      ]
     },
     "execution_count": 75,
     "metadata": {},
     "output_type": "execute_result"
    }
   ],
   "source": [
    "# Minimum of the elements in the array element-wise; np.fmin ignores nan\n",
    "np.minimum(arr_ufuncs_int,arr_ufuncs_float)"
   ]
  },
  {
   "cell_type": "code",
   "execution_count": 76,
   "metadata": {},
   "outputs": [
    {
     "data": {
      "text/plain": [
       "array([[[-0.71734887, -0.3238217 ,  0.25462124],\n",
       "        [-0.18938736,  0.85445127,  0.4341165 ]],\n",
       "\n",
       "       [[ 0.03674717,  0.03836073,  0.09021734],\n",
       "        [-0.54897938, -0.92374593, -0.42865516]]])"
      ]
     },
     "execution_count": 76,
     "metadata": {},
     "output_type": "execute_result"
    }
   ],
   "source": [
    "# Remainder of division element-wise\n",
    "np.mod(arr_ufuncs_int,arr_ufuncs_float)"
   ]
  },
  {
   "cell_type": "code",
   "execution_count": 77,
   "metadata": {},
   "outputs": [
    {
     "data": {
      "text/plain": [
       "array([[[ -3.,  -2.,   5.],\n",
       "        [ -7.,   8.,   9.]],\n",
       "\n",
       "       [[ 11.,   5.,   7.],\n",
       "        [-12.,  -5.,  -9.]]])"
      ]
     },
     "execution_count": 77,
     "metadata": {},
     "output_type": "execute_result"
    }
   ],
   "source": [
    "# Copies the sign of second array to the first array\n",
    "np.copysign(arr_ufuncs_int,arr_ufuncs_float)"
   ]
  },
  {
   "cell_type": "code",
   "execution_count": 78,
   "metadata": {},
   "outputs": [
    {
     "data": {
      "text/plain": [
       "array([[[ True,  True,  True],\n",
       "        [ True,  True,  True]],\n",
       "\n",
       "       [[ True,  True,  True],\n",
       "        [ True,  True,  True]]])"
      ]
     },
     "execution_count": 78,
     "metadata": {},
     "output_type": "execute_result"
    }
   ],
   "source": [
    "# logical_and, logical_or, logical_xor : Computes element-wise truth value of logical operations of and, or , xor\n",
    "np.logical_or(arr_ufuncs_int,arr_ufuncs_int)"
   ]
  },
  {
   "cell_type": "markdown",
   "metadata": {},
   "source": [
    "> **Binary UFuncs : Comparison Operators** \n",
    "\n",
    "    Since these operators always result in a boolean array, we can use these ufuncs to do element-wise comparisons over arrays.\n",
    "    \n",
    "    We can use the comparison operators or their equivalent ufunc for accomplishing the task.\n",
    "    For instance, Operator \"==\" is same as \"np.equal\".\n",
    "    A summary of comparison operators and their equivalent ufunc is shown below:\n",
    "    \n",
    "        Operator   |   UFunc\n",
    "       ------------|-------------------  \n",
    "           ==      |   np.equal\n",
    "           !=      |   np.not_equal\n",
    "           <       |   np.less\n",
    "           <=      |   np.less_equal\n",
    "           >       |   np.greater  \n",
    "           >=      |   np.greater_equal"
   ]
  },
  {
   "cell_type": "code",
   "execution_count": 79,
   "metadata": {},
   "outputs": [
    {
     "data": {
      "text/plain": [
       "array([[[ True,  True,  True],\n",
       "        [ True,  True,  True]],\n",
       "\n",
       "       [[ True,  True,  True],\n",
       "        [ True,  True,  True]]])"
      ]
     },
     "execution_count": 79,
     "metadata": {},
     "output_type": "execute_result"
    }
   ],
   "source": [
    "# Element comparison yielding a boolean array: equal\n",
    "np.equal(arr_ufuncs_int,arr_ufuncs_int)"
   ]
  },
  {
   "cell_type": "code",
   "execution_count": 80,
   "metadata": {},
   "outputs": [
    {
     "data": {
      "text/plain": [
       "array([[[ True,  True,  True],\n",
       "        [ True, False, False]],\n",
       "\n",
       "       [[False,  True,  True],\n",
       "        [False,  True, False]]])"
      ]
     },
     "execution_count": 80,
     "metadata": {},
     "output_type": "execute_result"
    }
   ],
   "source": [
    "# Element-wise comparison to find the elements less than a particular value\n",
    "arr_ufuncs_int<8 \n",
    "# is same as\n",
    "np.less(arr_ufuncs_int,8)"
   ]
  },
  {
   "cell_type": "markdown",
   "metadata": {},
   "source": [
    "> **Binary UFuncs : Boolean Operators**\n",
    "    \n",
    "        Boolean Operators can accomplish a variety of compound tasks on arrays.\n",
    "    (Lets consider the dataframe consisting of banks that closed between 2000 and 2019.To evaluate compound \n",
    "    questions, such as, How many banks closed in 2008 in California? \n",
    "        This is accomplished by Boolean Operators. Below is a list of UFuncs for Boolean operators and their \n",
    "    corresponding boolean operators.\n",
    "    \n",
    "    bitwise_and (&)\n",
    "    bitwise_or (|)\n",
    "    bitwise_xor (^)\n",
    "    bitwise_not (~)\n",
    "    \n",
    "    Please Note : \n",
    "    1. Combining Boolean Operators with Comparison operators on arrays can lead to a wide range of efficient  \n",
    "    logical operations"
   ]
  },
  {
   "cell_type": "markdown",
   "metadata": {},
   "source": [
    "> **Binary UFuncs : ufunc methods**\n",
    "\n",
    "      All binary ufuncs support four methods for performing specialized functions.\n",
    "      Each of the five methods will be discussed below.\n",
    "\n",
    "        reduce       : Aggregates values by applying ufunc along the mentioned axis \n",
    "        accumulate   : Accumulates values, preserving all partial aggregates.\n",
    "        reduceat     : Performs a (local) reduce with specified slices over a single axis to produce an aggregate \n",
    "                       array\n",
    "        outer        : Apply ufunc to all pairs of elements in x and y; the resulting array has shape \n",
    "                       x.shape + y.shape\n",
    "        at           : performs unbuffered in place operation on array for elements specified by 'indices'"
   ]
  },
  {
   "cell_type": "code",
   "execution_count": 81,
   "metadata": {},
   "outputs": [
    {
     "data": {
      "text/plain": [
       "array([[[1, 8, 4, 5, 8],\n",
       "        [5, 4, 5, 5, 4],\n",
       "        [7, 5, 0, 6, 6],\n",
       "        [5, 6, 1, 8, 4]],\n",
       "\n",
       "       [[7, 3, 1, 5, 6],\n",
       "        [4, 5, 8, 7, 5],\n",
       "        [2, 8, 6, 0, 6],\n",
       "        [7, 5, 7, 8, 4]],\n",
       "\n",
       "       [[6, 6, 5, 4, 2],\n",
       "        [6, 5, 0, 2, 3],\n",
       "        [8, 7, 6, 0, 1],\n",
       "        [1, 0, 7, 3, 1]]])"
      ]
     },
     "execution_count": 81,
     "metadata": {},
     "output_type": "execute_result"
    }
   ],
   "source": [
    "# Multidimensional Array creation\n",
    "arr_ufunc_meth = np.random.randint(9,size=(3,4,5))\n",
    "arr_ufunc_meth"
   ]
  },
  {
   "cell_type": "code",
   "execution_count": 82,
   "metadata": {},
   "outputs": [
    {
     "data": {
      "text/plain": [
       "array([[26, 23, 24, 24],\n",
       "       [22, 29, 22, 31],\n",
       "       [23, 16, 22, 12]])"
      ]
     },
     "execution_count": 82,
     "metadata": {},
     "output_type": "execute_result"
    }
   ],
   "source": [
    "# reduce with axis input applies ufunc and reduces the mentioned axis to single element\n",
    "np.add.reduce(arr_ufunc_meth,axis = 2)"
   ]
  },
  {
   "cell_type": "code",
   "execution_count": 83,
   "metadata": {},
   "outputs": [
    {
     "data": {
      "text/plain": [
       "array([[[ 1,  9, 13, 18, 26],\n",
       "        [ 5,  9, 14, 19, 23],\n",
       "        [ 7, 12, 12, 18, 24],\n",
       "        [ 5, 11, 12, 20, 24]],\n",
       "\n",
       "       [[ 7, 10, 11, 16, 22],\n",
       "        [ 4,  9, 17, 24, 29],\n",
       "        [ 2, 10, 16, 16, 22],\n",
       "        [ 7, 12, 19, 27, 31]],\n",
       "\n",
       "       [[ 6, 12, 17, 21, 23],\n",
       "        [ 6, 11, 11, 13, 16],\n",
       "        [ 8, 15, 21, 21, 22],\n",
       "        [ 1,  1,  8, 11, 12]]])"
      ]
     },
     "execution_count": 83,
     "metadata": {},
     "output_type": "execute_result"
    }
   ],
   "source": [
    "# accumulate with axis input applies the unfunc and gives intermediate results of reduction\n",
    "np.add.accumulate(arr_ufunc_meth,axis=2)"
   ]
  },
  {
   "cell_type": "code",
   "execution_count": 84,
   "metadata": {},
   "outputs": [
    {
     "name": "stdout",
     "output_type": "stream",
     "text": [
      "[[[ 9  9  8]\n",
      "  [ 9 10  4]\n",
      "  [12  6  6]\n",
      "  [11  9  4]]\n",
      "\n",
      " [[10  6  6]\n",
      "  [ 9 15  5]\n",
      "  [10  6  6]\n",
      "  [12 15  4]]\n",
      "\n",
      " [[12  9  2]\n",
      "  [11  2  3]\n",
      "  [15  6  1]\n",
      "  [ 1 10  1]]]\n"
     ]
    }
   ],
   "source": [
    "# reduceat performs a local groupby on the 2nd argument (i.e. binedges input) of the axis mentioned\n",
    "# In the below example, it splits the axis to 3 sections; (i.e. 0:2 , 2:4 , 4+); outerbound exclusive\n",
    "print(np.add.reduceat(arr_ufunc_meth,[0,2,4],axis=2))\n"
   ]
  },
  {
   "cell_type": "code",
   "execution_count": 85,
   "metadata": {},
   "outputs": [
    {
     "name": "stdout",
     "output_type": "stream",
     "text": [
      "Array 1 : \n",
      "[[8 1 7]\n",
      " [3 2 3]]\n",
      "\n",
      "Array 2 : \n",
      "[[ 8  7 14]\n",
      " [10  3  8]]\n"
     ]
    },
    {
     "data": {
      "text/plain": [
       "array([[[[16, 15, 22],\n",
       "         [18, 11, 16]],\n",
       "\n",
       "        [[ 9,  8, 15],\n",
       "         [11,  4,  9]],\n",
       "\n",
       "        [[15, 14, 21],\n",
       "         [17, 10, 15]]],\n",
       "\n",
       "\n",
       "       [[[11, 10, 17],\n",
       "         [13,  6, 11]],\n",
       "\n",
       "        [[10,  9, 16],\n",
       "         [12,  5, 10]],\n",
       "\n",
       "        [[11, 10, 17],\n",
       "         [13,  6, 11]]]])"
      ]
     },
     "execution_count": 85,
     "metadata": {},
     "output_type": "execute_result"
    }
   ],
   "source": [
    "# outer performs a pairwise cross-product between two arrays:\n",
    "array_outer_1 = np.random.randint(10,size=(2,3))\n",
    "array_outer_2 = np.random.randint(15,size=(2,3))\n",
    "print(f'Array 1 : \\n{array_outer_1}')\n",
    "print(f'\\nArray 2 : \\n{array_outer_2}')\n",
    "\n",
    "np.add.outer(array_outer_1,array_outer_2)"
   ]
  },
  {
   "cell_type": "code",
   "execution_count": 86,
   "metadata": {},
   "outputs": [
    {
     "name": "stdout",
     "output_type": "stream",
     "text": [
      "Original Array :\n",
      "[[[4 1 0 5]\n",
      "  [4 0 4 1]]\n",
      "\n",
      " [[4 5 6 5]\n",
      "  [1 1 5 7]]\n",
      "\n",
      " [[7 2 2 8]\n",
      "  [0 4 0 1]]]\n",
      "\n",
      "Incremented Array :\n",
      "[[[14  1  0 15]\n",
      "  [ 4  0  4  1]]\n",
      "\n",
      " [[ 4  5  6  5]\n",
      "  [ 1  1  5  7]]\n",
      "\n",
      " [[ 7  2  2  8]\n",
      "  [10  4  0 11]]]\n"
     ]
    }
   ],
   "source": [
    "# at performs unbuffered in place operation on array for elements specified by 'indices'.\n",
    "arr_ufunc_at = np.random.randint(10,size=(3,2,4))\n",
    "print(f\"Original Array :\\n{arr_ufunc_at}\")\n",
    "\n",
    "# This statement performs a in-place increment of the corner elements by 10\n",
    "np.add.at(arr_ufunc_at,tuple([[[0, 0],\n",
    "                               [2, 2]], \n",
    "                              [[0, 0], \n",
    "                               [1, 1]], \n",
    "                              [[0, 3], \n",
    "                               [0, 3]]]),10)\n",
    "\n",
    "print(f\"\\nIncremented Array :\\n{arr_ufunc_at}\")"
   ]
  },
  {
   "cell_type": "markdown",
   "metadata": {},
   "source": [
    "### <center>Broadcasting</center>\n",
    "\n",
    "    Broadcasting is a set of rules for applying binary UFuncs on arrays of different sizes.\n",
    "    \n",
    "    Rules of Broadcasting : \n",
    "    \n",
    "    1. Rule 1 : If the 2 arrays differ in dimensions, the shape of the one with fewer dimensions is padded with 1s on its leading side\n",
    "    2. Rule 2 : If the shape of the 2 arrays does not match in any dimension, tha array with shape equal to 1 is stretched to match the other shape\n",
    "    3. Rule 3 : If neither sizes match in any dimension nor is 1, then an error is raised"
   ]
  },
  {
   "cell_type": "code",
   "execution_count": 87,
   "metadata": {},
   "outputs": [
    {
     "data": {
      "text/plain": [
       "array([[[[ 0],\n",
       "         [22]],\n",
       "\n",
       "        [[ 5],\n",
       "         [25]],\n",
       "\n",
       "        [[14],\n",
       "         [30]],\n",
       "\n",
       "        [[17],\n",
       "         [32]]],\n",
       "\n",
       "\n",
       "       [[[ 7],\n",
       "         [14]],\n",
       "\n",
       "        [[ 8],\n",
       "         [10]],\n",
       "\n",
       "        [[38],\n",
       "         [ 9]],\n",
       "\n",
       "        [[ 1],\n",
       "         [20]]]])"
      ]
     },
     "execution_count": 87,
     "metadata": {},
     "output_type": "execute_result"
    }
   ],
   "source": [
    "# Consider an array with dimensions (2,4,2,1)\n",
    "arr_brd_1 = np.random.randint(40,size=(2,4,2,1))\n",
    "arr_brd_1"
   ]
  },
  {
   "cell_type": "code",
   "execution_count": 88,
   "metadata": {},
   "outputs": [],
   "source": [
    "# Consider another array with dimensions (2,3)\n",
    "arr_brd_2 = np.random.randint(20,size=(2,3))"
   ]
  },
  {
   "cell_type": "markdown",
   "metadata": {},
   "source": [
    "    In the above example : \n",
    "    Rule 1 : Since arr_brd_2 has fewer dimensions, its padded with 1s on left making its dimensions (1,1,2,3)\n",
    "    Rule 2 : Since dimensions dont match, both arr_brd_1 and arr_brd_2 is stretched/broadcasted to form a output array of dimensions (2,4,2,3)\n",
    "    \n",
    "    Therefore, Broadcasting is viable."
   ]
  },
  {
   "cell_type": "code",
   "execution_count": 89,
   "metadata": {},
   "outputs": [
    {
     "data": {
      "text/plain": [
       "array([[[[12,  6, 17],\n",
       "         [29, 22, 30]],\n",
       "\n",
       "        [[17, 11, 22],\n",
       "         [32, 25, 33]],\n",
       "\n",
       "        [[26, 20, 31],\n",
       "         [37, 30, 38]],\n",
       "\n",
       "        [[29, 23, 34],\n",
       "         [39, 32, 40]]],\n",
       "\n",
       "\n",
       "       [[[19, 13, 24],\n",
       "         [21, 14, 22]],\n",
       "\n",
       "        [[20, 14, 25],\n",
       "         [17, 10, 18]],\n",
       "\n",
       "        [[50, 44, 55],\n",
       "         [16,  9, 17]],\n",
       "\n",
       "        [[13,  7, 18],\n",
       "         [27, 20, 28]]]])"
      ]
     },
     "execution_count": 89,
     "metadata": {},
     "output_type": "execute_result"
    }
   ],
   "source": [
    "arr_brd_1 + arr_brd_2"
   ]
  },
  {
   "cell_type": "code",
   "execution_count": 90,
   "metadata": {},
   "outputs": [],
   "source": [
    "# Consider another array with dimensions (2,3,5)\n",
    "arr_brd_3 = np.random.randint(20,size=(2,3,5))"
   ]
  },
  {
   "cell_type": "code",
   "execution_count": 91,
   "metadata": {},
   "outputs": [
    {
     "ename": "ValueError",
     "evalue": "operands could not be broadcast together with shapes (2,4,2,1) (2,3,5) ",
     "output_type": "error",
     "traceback": [
      "\u001b[0;31m---------------------------------------------------------------------------\u001b[0m",
      "\u001b[0;31mValueError\u001b[0m                                Traceback (most recent call last)",
      "\u001b[0;32m<ipython-input-91-36847ccb1869>\u001b[0m in \u001b[0;36m<module>\u001b[0;34m\u001b[0m\n\u001b[1;32m      1\u001b[0m \u001b[0;31m# Because the arrays defy Rule 2, it cannot be broadcast to apply any binary ufunc\u001b[0m\u001b[0;34m\u001b[0m\u001b[0;34m\u001b[0m\u001b[0;34m\u001b[0m\u001b[0m\n\u001b[0;32m----> 2\u001b[0;31m \u001b[0marr_brd_1\u001b[0m\u001b[0;34m+\u001b[0m\u001b[0marr_brd_3\u001b[0m\u001b[0;34m\u001b[0m\u001b[0;34m\u001b[0m\u001b[0m\n\u001b[0m",
      "\u001b[0;31mValueError\u001b[0m: operands could not be broadcast together with shapes (2,4,2,1) (2,3,5) "
     ]
    }
   ],
   "source": [
    "# Because the arrays defy Rule 2, it cannot be broadcast to apply any binary ufunc\n",
    "arr_brd_1+arr_brd_3"
   ]
  }
 ],
 "metadata": {
  "kernelspec": {
   "display_name": "Python 3",
   "language": "python",
   "name": "python3"
  },
  "language_info": {
   "codemirror_mode": {
    "name": "ipython",
    "version": 3
   },
   "file_extension": ".py",
   "mimetype": "text/x-python",
   "name": "python",
   "nbconvert_exporter": "python",
   "pygments_lexer": "ipython3",
   "version": "3.7.3"
  }
 },
 "nbformat": 4,
 "nbformat_minor": 2
}
